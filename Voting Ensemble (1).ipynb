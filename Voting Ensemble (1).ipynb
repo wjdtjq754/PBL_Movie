{
 "cells": [
  {
   "cell_type": "code",
   "execution_count": 1,
   "metadata": {},
   "outputs": [],
   "source": [
    "import pandas as pd\n",
    "import numpy as np\n",
    "import matplotlib.pyplot as plt\n",
    "from sklearn.metrics import classification_report, confusion_matrix, accuracy_score\n",
    "import seaborn as sns\n",
    "from sklearn.linear_model import LinearRegression\n",
    "from sklearn.linear_model import LogisticRegression\n",
    "from sklearn.neighbors import KNeighborsClassifier\n",
    "from sklearn.neighbors import KNeighborsRegressor\n",
    "from sklearn.model_selection import train_test_split\n",
    "from sklearn.preprocessing import StandardScaler\n",
    "from sklearn.svm import SVR,SVC\n",
    "from sklearn.metrics import mean_squared_error\n",
    "from sklearn.naive_bayes import GaussianNB\n",
    "from sklearn.ensemble import VotingClassifier\n",
    "from sklearn.ensemble import VotingRegressor\n",
    "from sklearn.ensemble import RandomForestClassifier\n",
    "%matplotlib inline"
   ]
  },
  {
   "cell_type": "code",
   "execution_count": 2,
   "metadata": {},
   "outputs": [],
   "source": [
    "data=pd.read_excel('C:\\pbl_movie.xlsx',header=0)"
   ]
  },
  {
   "cell_type": "code",
   "execution_count": 3,
   "metadata": {},
   "outputs": [],
   "source": [
    "X=data[['주연 top50 출연 여부','배급사','국적','전국 스크린수','경쟁작',\n",
    "       '가족','공연','공포(호러)','기타','다큐멘터리','드라마','멜로/로맨스','뮤지컬',\n",
    "       '미스터리','범죄','사극','스릴러','액션','어드벤처','전쟁',\n",
    "       '코미디','판타지','SF','top영화감독 여부','네티즌 평점','러닝타임',\n",
    "       '연작','원작','12세관람가','15세관람가','19세관람가',\n",
    "       '연휴기간 상영여부']]\n",
    "X1=data[['주연 top50 출연 여부','배급사', '전국 스크린수','러닝타임', '네티즌 평점',\n",
    "        'top영화감독 여부','연휴기간 상영여부']]\n",
    "X2=data[['주연 top50 출연 여부','전국 스크린수','15세관람가','top영화감독 여부','국적',\n",
    "        '네티즌 평점','연휴기간 상영여부']]\n",
    "y=data[['전국 관객수']]\n",
    "y1=data[['전국 관객수 분류']]"
   ]
  },
  {
   "cell_type": "code",
   "execution_count": 4,
   "metadata": {},
   "outputs": [
    {
     "name": "stderr",
     "output_type": "stream",
     "text": [
      "<ipython-input-4-2b440a3bce64>:8: SettingWithCopyWarning: \n",
      "A value is trying to be set on a copy of a slice from a DataFrame.\n",
      "Try using .loc[row_indexer,col_indexer] = value instead\n",
      "\n",
      "See the caveats in the documentation: https://pandas.pydata.org/pandas-docs/stable/user_guide/indexing.html#returning-a-view-versus-a-copy\n",
      "  X[feature_to_scale]=scale\n",
      "C:\\ProgramData\\Anaconda3\\lib\\site-packages\\pandas\\core\\indexing.py:1736: SettingWithCopyWarning: \n",
      "A value is trying to be set on a copy of a slice from a DataFrame.\n",
      "Try using .loc[row_indexer,col_indexer] = value instead\n",
      "\n",
      "See the caveats in the documentation: https://pandas.pydata.org/pandas-docs/stable/user_guide/indexing.html#returning-a-view-versus-a-copy\n",
      "  isetter(loc, value[:, i].tolist())\n",
      "<ipython-input-4-2b440a3bce64>:9: SettingWithCopyWarning: \n",
      "A value is trying to be set on a copy of a slice from a DataFrame.\n",
      "Try using .loc[row_indexer,col_indexer] = value instead\n",
      "\n",
      "See the caveats in the documentation: https://pandas.pydata.org/pandas-docs/stable/user_guide/indexing.html#returning-a-view-versus-a-copy\n",
      "  X1[feature_to_scale1]=scale1\n",
      "<ipython-input-4-2b440a3bce64>:10: SettingWithCopyWarning: \n",
      "A value is trying to be set on a copy of a slice from a DataFrame.\n",
      "Try using .loc[row_indexer,col_indexer] = value instead\n",
      "\n",
      "See the caveats in the documentation: https://pandas.pydata.org/pandas-docs/stable/user_guide/indexing.html#returning-a-view-versus-a-copy\n",
      "  X2[feature_to_scale2]=scale2\n"
     ]
    }
   ],
   "source": [
    "scaler=StandardScaler()\n",
    "feature_to_scale=['전국 스크린수','러닝타임','네티즌 평점','경쟁작']\n",
    "feature_to_scale1=['전국 스크린수','러닝타임','네티즌 평점']\n",
    "feature_to_scale2=['전국 스크린수','네티즌 평점']\n",
    "scale=scaler.fit_transform(data[feature_to_scale])\n",
    "scale1=scaler.fit_transform(data[feature_to_scale1])\n",
    "scale2=scaler.fit_transform(data[feature_to_scale2])\n",
    "X[feature_to_scale]=scale\n",
    "X1[feature_to_scale1]=scale1\n",
    "X2[feature_to_scale2]=scale2"
   ]
  },
  {
   "cell_type": "code",
   "execution_count": 5,
   "metadata": {},
   "outputs": [
    {
     "name": "stderr",
     "output_type": "stream",
     "text": [
      "C:\\ProgramData\\Anaconda3\\lib\\site-packages\\sklearn\\utils\\validation.py:72: DataConversionWarning: A column-vector y was passed when a 1d array was expected. Please change the shape of y to (n_samples, ), for example using ravel().\n",
      "  return f(**kwargs)\n",
      "C:\\ProgramData\\Anaconda3\\lib\\site-packages\\sklearn\\utils\\validation.py:72: DataConversionWarning: A column-vector y was passed when a 1d array was expected. Please change the shape of y to (n_samples, ), for example using ravel().\n",
      "  return f(**kwargs)\n",
      "C:\\ProgramData\\Anaconda3\\lib\\site-packages\\sklearn\\utils\\validation.py:72: DataConversionWarning: A column-vector y was passed when a 1d array was expected. Please change the shape of y to (n_samples, ), for example using ravel().\n",
      "  return f(**kwargs)\n"
     ]
    },
    {
     "name": "stdout",
     "output_type": "stream",
     "text": [
      "학습 데이터 점수 : 0.715\n",
      "평가 데이터 점수 : 0.7\n",
      "학습 데이터 점수 : 0.6925\n",
      "평가 데이터 점수 : 0.7\n",
      "학습 데이터 점수 : 0.6875\n",
      "평가 데이터 점수 : 0.685\n"
     ]
    }
   ],
   "source": [
    "#hard voting 앙상블\n",
    "model1=SVC(kernel='linear', C=0.06)\n",
    "model2=GaussianNB(var_smoothing=0.2)\n",
    "model3=RandomForestClassifier()\n",
    "model4=KNeighborsClassifier(n_neighbors=7)\n",
    "model5=LogisticRegression(C=0.1,multi_class='ovr',solver='lbfgs')\n",
    "model1_1=SVC(kernel='linear', C=0.22)\n",
    "model2_1=GaussianNB(var_smoothing=0.1)\n",
    "model3_1=RandomForestClassifier()\n",
    "model4_1=KNeighborsClassifier(n_neighbors=10)\n",
    "model5_1=LogisticRegression(C=2.5,multi_class='multinomial',solver='lbfgs')\n",
    "model1_2=SVC(kernel='linear', C=0.14)\n",
    "model2_2=GaussianNB(var_smoothing=0.25)\n",
    "model3_2=RandomForestClassifier()\n",
    "model4_2=KNeighborsClassifier(n_neighbors=39)\n",
    "model5_2=LogisticRegression(C=6,multi_class='multinomial',solver='lbfgs')\n",
    "\n",
    "\n",
    "vote_model = VotingClassifier(\n",
    "    estimators=[('svc',model1),('naive',model2),('forest',model3),('knn',model4),('log',model5)],\n",
    "    voting='hard')\n",
    "vote_model1 = VotingClassifier(\n",
    "    estimators=[('svc',model1_1),('naive',model2_1),('forest',model3_1),('knn',model4_1),('log',model5_1)],\n",
    "    voting='hard')\n",
    "vote_model2 = VotingClassifier(\n",
    "    estimators=[('svc',model1_2),('naive',model2_2),('forest',model3_2),('knn',model4_2),('log',model5_2)],\n",
    "    voting='hard')\n",
    "\n",
    "X_train,X_test,y1_train,y1_test= train_test_split(X,y1,random_state=5,test_size=0.2)\n",
    "X_train1,X_test1,y1_train1,y1_test1=train_test_split(X1,y1,random_state=5,test_size=0.2)\n",
    "X_train2,X_test2,y1_train2,y1_test2=train_test_split(X2,y1,random_state=5,test_size=0.2)\n",
    "\n",
    "vote_model.fit(X_train,y1_train)\n",
    "vote_model1.fit(X_train1,y1_train1)\n",
    "vote_model2.fit(X_train2,y1_train2)\n",
    "\n",
    "y_pred=vote_model.predict(X_test)\n",
    "y_pred1=vote_model1.predict(X_test1)\n",
    "y_pred2=vote_model2.predict(X_test2)\n",
    "\n",
    "print(\"학습 데이터 점수 : {}\".format(vote_model.score(X_train,y1_train)))\n",
    "print(\"평가 데이터 점수 : {}\".format(vote_model.score(X_test,y1_test)))\n",
    "print(\"학습 데이터 점수 : {}\".format(vote_model1.score(X_train1,y1_train1)))\n",
    "print(\"평가 데이터 점수 : {}\".format(vote_model1.score(X_test1,y1_test1)))\n",
    "print(\"학습 데이터 점수 : {}\".format(vote_model2.score(X_train2,y1_train2)))\n",
    "print(\"평가 데이터 점수 : {}\".format(vote_model2.score(X_test2,y1_test2)))"
   ]
  },
  {
   "cell_type": "code",
   "execution_count": 6,
   "metadata": {},
   "outputs": [
    {
     "data": {
      "image/png": "[encoded data removed]",
      "text/plain": [
       "<Figure size 504x504 with 2 Axes>"
      ]
     },
     "metadata": {
      "needs_background": "light"
     },
     "output_type": "display_data"
    }
   ],
   "source": [
    "plt.figure(figsize=(7,7))\n",
    "cm=confusion_matrix(y1_test,y_pred)\n",
    "sns.heatmap(cm,annot=True, fmt='d', cmap='Blues')\n",
    "plt.xlabel('y_pred')\n",
    "plt.ylabel('y_test')\n",
    "plt.show()"
   ]
  },
  {
   "cell_type": "code",
   "execution_count": 7,
   "metadata": {},
   "outputs": [
    {
     "name": "stdout",
     "output_type": "stream",
     "text": [
      "              precision    recall  f1-score   support\n",
      "\n",
      "           0       0.72      0.91      0.80       105\n",
      "           1       0.65      0.53      0.58        70\n",
      "           2       0.75      0.18      0.29        17\n",
      "           3       0.80      0.50      0.62         8\n",
      "\n",
      "    accuracy                           0.70       200\n",
      "   macro avg       0.73      0.53      0.57       200\n",
      "weighted avg       0.70      0.70      0.67       200\n",
      "\n"
     ]
    }
   ],
   "source": [
    "print(classification_report(y1_test,y_pred,target_names=['0','1','2','3']))"
   ]
  },
  {
   "cell_type": "code",
   "execution_count": 8,
   "metadata": {},
   "outputs": [
    {
     "name": "stdout",
     "output_type": "stream",
     "text": [
      "col_0   1   2  3  4\n",
      "row_0              \n",
      "1      96   9  0  0\n",
      "2      33  37  0  0\n",
      "3       5   8  3  1\n",
      "4       0   3  1  4 \n",
      "col_0   1   2  3  4\n",
      "row_0              \n",
      "1      91  14  0  0\n",
      "2      27  42  1  0\n",
      "3       4   9  3  1\n",
      "4       0   1  3  4 \n",
      "col_0   1   2  3  4\n",
      "row_0              \n",
      "1      93  12  0  0\n",
      "2      33  37  0  0\n",
      "3       5   8  3  1\n",
      "4       0   2  2  4\n"
     ]
    }
   ],
   "source": [
    "#크로스탭\n",
    "y1_test=y1_test.values.ravel()\n",
    "y1_test1=y1_test1.values.ravel()\n",
    "y1_test2=y1_test2.values.ravel()\n",
    "ct=pd.crosstab(index=y1_test,columns=y_pred)\n",
    "ct1=pd.crosstab(index=y1_test1,columns=y_pred1)\n",
    "ct2=pd.crosstab(index=y1_test2,columns=y_pred2)\n",
    "print(ct, \"\\n{}\".format(ct1),\"\\n{}\".format(ct2))"
   ]
  },
  {
   "cell_type": "code",
   "execution_count": 9,
   "metadata": {},
   "outputs": [
    {
     "name": "stderr",
     "output_type": "stream",
     "text": [
      "C:\\ProgramData\\Anaconda3\\lib\\site-packages\\sklearn\\utils\\validation.py:72: DataConversionWarning: A column-vector y was passed when a 1d array was expected. Please change the shape of y to (n_samples, ), for example using ravel().\n",
      "  return f(**kwargs)\n",
      "C:\\ProgramData\\Anaconda3\\lib\\site-packages\\sklearn\\utils\\validation.py:72: DataConversionWarning: A column-vector y was passed when a 1d array was expected. Please change the shape of y to (n_samples, ), for example using ravel().\n",
      "  return f(**kwargs)\n",
      "C:\\ProgramData\\Anaconda3\\lib\\site-packages\\sklearn\\utils\\validation.py:72: DataConversionWarning: A column-vector y was passed when a 1d array was expected. Please change the shape of y to (n_samples, ), for example using ravel().\n",
      "  return f(**kwargs)\n"
     ]
    },
    {
     "name": "stdout",
     "output_type": "stream",
     "text": [
      "학습 데이터 점수 : 0.815\n",
      "평가 데이터 점수 : 0.69\n",
      "학습 데이터 점수 : 0.785\n",
      "평가 데이터 점수 : 0.685\n",
      "학습 데이터 점수 : 0.78\n",
      "평가 데이터 점수 : 0.665\n"
     ]
    }
   ],
   "source": [
    "#soft voting 앙상블\n",
    "model1=SVC(kernel='linear', C=0.06, probability=True)\n",
    "model2=GaussianNB(var_smoothing=0.2)\n",
    "model3=RandomForestClassifier()\n",
    "model4=KNeighborsClassifier(n_neighbors=7)\n",
    "model5=LogisticRegression(C=0.1,multi_class='ovr',solver='lbfgs')\n",
    "model1_1=SVC(kernel='linear', C=0.22, probability=True)\n",
    "model2_1=GaussianNB(var_smoothing=0.1)\n",
    "model3_1=RandomForestClassifier()\n",
    "model4_1=KNeighborsClassifier(n_neighbors=10)\n",
    "model5_1=LogisticRegression(C=2.5,multi_class='multinomial',solver='lbfgs')\n",
    "model1_2=SVC(kernel='linear', C=0.14, probability=True)\n",
    "model2_2=GaussianNB(var_smoothing=0.25)\n",
    "model3_2=RandomForestClassifier()\n",
    "model4_2=KNeighborsClassifier(n_neighbors=39)\n",
    "model5_2=LogisticRegression(C=6,multi_class='multinomial',solver='lbfgs')\n",
    "\n",
    "\n",
    "vote_model = VotingClassifier(\n",
    "    estimators=[('svc',model1),('naive',model2),('forest',model3),('knn',model4),('log',model5)],\n",
    "    voting='soft')\n",
    "vote_model1 = VotingClassifier(\n",
    "    estimators=[('svc',model1_1),('naive',model2_1),('forest',model3_1),('knn',model4_1),('log',model5_1)],\n",
    "    voting='soft')\n",
    "vote_model2 = VotingClassifier(\n",
    "    estimators=[('svc',model1_2),('naive',model2_2),('forest',model3_2),('knn',model4_2),('log',model5_2)],\n",
    "    voting='soft')\n",
    "\n",
    "X_train,X_test,y1_train,y1_test= train_test_split(X,y1,random_state=5,test_size=0.2)\n",
    "X_train1,X_test1,y1_train1,y1_test1=train_test_split(X1,y1,random_state=5,test_size=0.2)\n",
    "X_train2,X_test2,y1_train2,y1_test2=train_test_split(X2,y1,random_state=5,test_size=0.2)\n",
    "\n",
    "vote_model.fit(X_train,y1_train)\n",
    "vote_model1.fit(X_train1,y1_train1)\n",
    "vote_model2.fit(X_train2,y1_train2)\n",
    "\n",
    "y_pred=vote_model.predict(X_test)\n",
    "y_pred1=vote_model1.predict(X_test1)\n",
    "y_pred2=vote_model2.predict(X_test2)\n",
    "\n",
    "print(\"학습 데이터 점수 : {}\".format(vote_model.score(X_train,y1_train)))\n",
    "print(\"평가 데이터 점수 : {}\".format(vote_model.score(X_test,y1_test)))\n",
    "print(\"학습 데이터 점수 : {}\".format(vote_model1.score(X_train1,y1_train1)))\n",
    "print(\"평가 데이터 점수 : {}\".format(vote_model1.score(X_test1,y1_test1)))\n",
    "print(\"학습 데이터 점수 : {}\".format(vote_model2.score(X_train2,y1_train2)))\n",
    "print(\"평가 데이터 점수 : {}\".format(vote_model2.score(X_test2,y1_test2)))"
   ]
  },
  {
   "cell_type": "code",
   "execution_count": 10,
   "metadata": {},
   "outputs": [
    {
     "name": "stdout",
     "output_type": "stream",
     "text": [
      "col_0   1   2  3  4\n",
      "row_0              \n",
      "1      93  12  0  0\n",
      "2      31  38  1  0\n",
      "3       4   9  3  1\n",
      "4       0   2  2  4 \n",
      "col_0   1   2  3  4\n",
      "row_0              \n",
      "1      89  15  1  0\n",
      "2      29  40  1  0\n",
      "3       4   8  4  1\n",
      "4       0   1  3  4 \n",
      "col_0   1   2  3  4\n",
      "row_0              \n",
      "1      92  12  1  0\n",
      "2      34  34  2  0\n",
      "3       5   8  3  1\n",
      "4       0   2  2  4\n"
     ]
    }
   ],
   "source": [
    "#크로스탭\n",
    "y1_test=y1_test.values.ravel()\n",
    "y1_test1=y1_test1.values.ravel()\n",
    "y1_test2=y1_test2.values.ravel()\n",
    "ct=pd.crosstab(index=y1_test,columns=y_pred)\n",
    "ct1=pd.crosstab(index=y1_test1,columns=y_pred1)\n",
    "ct2=pd.crosstab(index=y1_test2,columns=y_pred2)\n",
    "print(ct, \"\\n{}\".format(ct1),\"\\n{}\".format(ct2))"
   ]
  },
  {
   "cell_type": "code",
   "execution_count": 11,
   "metadata": {},
   "outputs": [
    {
     "name": "stderr",
     "output_type": "stream",
     "text": [
      "C:\\ProgramData\\Anaconda3\\lib\\site-packages\\sklearn\\utils\\validation.py:72: DataConversionWarning: A column-vector y was passed when a 1d array was expected. Please change the shape of y to (n_samples, ), for example using ravel().\n",
      "  return f(**kwargs)\n",
      "C:\\ProgramData\\Anaconda3\\lib\\site-packages\\sklearn\\utils\\validation.py:72: DataConversionWarning: A column-vector y was passed when a 1d array was expected. Please change the shape of y to (n_samples, ), for example using ravel().\n",
      "  return f(**kwargs)\n",
      "C:\\ProgramData\\Anaconda3\\lib\\site-packages\\sklearn\\utils\\validation.py:72: DataConversionWarning: A column-vector y was passed when a 1d array was expected. Please change the shape of y to (n_samples, ), for example using ravel().\n",
      "  return f(**kwargs)\n"
     ]
    },
    {
     "name": "stdout",
     "output_type": "stream",
     "text": [
      "학습 데이터 점수 : 0.885332071188339\n",
      "평가 데이터 점수 : 0.6008249655577143\n",
      "학습 데이터 점수 : 0.8466187571153526\n",
      "평가 데이터 점수 : 0.6355629402147203\n",
      "학습 데이터 점수 : 0.8554631743939562\n",
      "평가 데이터 점수 : 0.6154941853136258\n"
     ]
    }
   ],
   "source": [
    "#voting 앙상블 회귀\n",
    "reg1 = LinearRegression()\n",
    "reg2 = SVR(kernel='rbf',C=4800000, epsilon=450000)\n",
    "reg3 = KNeighborsRegressor(n_neighbors=10, weights='distance')\n",
    "reg1_1 = LinearRegression()\n",
    "reg2_1 = SVR(kernel='poly',C=710000, epsilon=750000)\n",
    "reg3_1 = KNeighborsRegressor(n_neighbors=13, weights='distance')\n",
    "reg1_2 = LinearRegression()\n",
    "reg2_2 = SVR(kernel='rbf',C=2700000, epsilon=400000)\n",
    "reg3_2 = KNeighborsRegressor(n_neighbors=12, weights='distance')\n",
    "\n",
    "vote_reg_model = VotingRegressor(\n",
    "    estimators=[('linear',reg1),('svr',reg2),('knr',reg3)],\n",
    "    weights=[1,1,1])\n",
    "vote_reg_model1 = VotingRegressor(\n",
    "    estimators=[('linear',reg1_1),('svr',reg2_1),('knr',reg3_1)],\n",
    "    weights=[1,1,1])\n",
    "vote_reg_model2 = VotingRegressor(\n",
    "    estimators=[('linear',reg1_2),('svr',reg2_2),('knr',reg3_2)],\n",
    "    weights=[1,1,1])\n",
    "\n",
    "X_train,X_test,y_train,y_test= train_test_split(X,y,random_state=5,test_size=0.2)\n",
    "X_train1,X_test1,y_train1,y_test1=train_test_split(X1,y,random_state=5,test_size=0.2)\n",
    "X_train2,X_test2,y_train2,y_test2=train_test_split(X2,y,random_state=5,test_size=0.2)\n",
    "\n",
    "vote_reg_model.fit(X_train,y_train)\n",
    "vote_reg_model1.fit(X_train1,y_train1)\n",
    "vote_reg_model2.fit(X_train2,y_train2)\n",
    "\n",
    "y_pred=vote_reg_model.predict(X_test)\n",
    "y_pred1=vote_reg_model1.predict(X_test1)\n",
    "y_pred2=vote_reg_model2.predict(X_test2)\n",
    "\n",
    "for i in range(0,199):\n",
    "    if y_pred[i]<0:\n",
    "        y_pred[i]=0\n",
    "    if y_pred1[i]<0:\n",
    "        y_pred1[i]=0\n",
    "    if y_pred2[i]<0:\n",
    "        y_pred2[i]=0\n",
    "        \n",
    "print(\"학습 데이터 점수 : {}\".format(vote_reg_model.score(X_train,y_train)))\n",
    "print(\"평가 데이터 점수 : {}\".format(vote_reg_model.score(X_test,y_test)))\n",
    "print(\"학습 데이터 점수 : {}\".format(vote_reg_model1.score(X_train1,y_train1)))\n",
    "print(\"평가 데이터 점수 : {}\".format(vote_reg_model1.score(X_test1,y_test1)))\n",
    "print(\"학습 데이터 점수 : {}\".format(vote_reg_model2.score(X_train2,y_train2)))\n",
    "print(\"평가 데이터 점수 : {}\".format(vote_reg_model2.score(X_test2,y_test2)))"
   ]
  },
  {
   "cell_type": "code",
   "execution_count": 12,
   "metadata": {},
   "outputs": [
    {
     "data": {
      "image/png": "[encoded data removed]",
      "text/plain": [
       "<Figure size 720x1080 with 3 Axes>"
      ]
     },
     "metadata": {
      "needs_background": "light"
     },
     "output_type": "display_data"
    }
   ],
   "source": [
    "n=np.arange(0,15000000)\n",
    "plt.figure(figsize=(10,15))\n",
    "plt.subplot(311)\n",
    "plt.scatter(y_test,y_pred,marker='o')\n",
    "plt.xlabel(\"y_test\")\n",
    "plt.ylabel(\"y_pred\")\n",
    "plt.plot(n,n,color='r')\n",
    "plt.subplot(312)\n",
    "plt.scatter(y_test1,y_pred1,marker='o')\n",
    "plt.xlabel(\"y_test\")\n",
    "plt.ylabel(\"y_pred\")\n",
    "plt.plot(n,n,color='r')\n",
    "plt.subplot(313)\n",
    "plt.scatter(y_test2,y_pred2, marker='o')\n",
    "plt.xlabel(\"y_test\")\n",
    "plt.ylabel(\"y_pred\")\n",
    "plt.plot(n,n,color='r')\n",
    "plt.show()"
   ]
  }
 ],
 "metadata": {
  "kernelspec": {
   "display_name": "Python 3",
   "language": "python",
   "name": "python3"
  },
  "language_info": {
   "codemirror_mode": {
    "name": "ipython",
    "version": 3
   },
   "file_extension": ".py",
   "mimetype": "text/x-python",
   "name": "python",
   "nbconvert_exporter": "python",
   "pygments_lexer": "ipython3",
   "version": "3.8.5"
  }
 },
 "nbformat": 4,
 "nbformat_minor": 4
}
