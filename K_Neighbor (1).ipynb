{
 "cells": [
  {
   "cell_type": "code",
   "execution_count": 1,
   "metadata": {},
   "outputs": [],
   "source": [
    "import pandas as pd\n",
    "import numpy as np\n",
    "import matplotlib.pyplot as plt\n",
    "from sklearn.metrics import classification_report, confusion_matrix, accuracy_score\n",
    "import seaborn as sns\n",
    "from sklearn.neighbors import KNeighborsClassifier\n",
    "from sklearn.neighbors import KNeighborsRegressor\n",
    "from sklearn.model_selection import train_test_split\n",
    "from sklearn.preprocessing import StandardScaler\n",
    "from sklearn.metrics import mean_squared_error\n",
    "%matplotlib inline"
   ]
  },
  {
   "cell_type": "code",
   "execution_count": 2,
   "metadata": {},
   "outputs": [],
   "source": [
    "data=pd.read_excel('C:\\pbl_movie.xlsx',header=0)"
   ]
  },
  {
   "cell_type": "code",
   "execution_count": 3,
   "metadata": {},
   "outputs": [],
   "source": [
    "X=data[['주연 top50 출연 여부','배급사','국적','전국 스크린수','경쟁작',\n",
    "       '가족','공연','공포(호러)','기타','다큐멘터리','드라마','멜로/로맨스','뮤지컬',\n",
    "       '미스터리','범죄','사극','스릴러','액션','어드벤처','전쟁',\n",
    "       '코미디','판타지','SF','top영화감독 여부','네티즌 평점','러닝타임',\n",
    "       '연작','원작','12세관람가','15세관람가','19세관람가',\n",
    "       '연휴기간 상영여부']]\n",
    "X1=data[['주연 top50 출연 여부','배급사', '전국 스크린수','러닝타임', '네티즌 평점',\n",
    "        'top영화감독 여부','연휴기간 상영여부']]\n",
    "X2=data[['주연 top50 출연 여부','전국 스크린수','15세관람가','top영화감독 여부','국적',\n",
    "        '네티즌 평점','연휴기간 상영여부']]\n",
    "y=data[['전국 관객수']]\n",
    "y1=data[['전국 관객수 분류']]"
   ]
  },
  {
   "cell_type": "code",
   "execution_count": 4,
   "metadata": {},
   "outputs": [
    {
     "name": "stderr",
     "output_type": "stream",
     "text": [
      "<ipython-input-4-2b440a3bce64>:8: SettingWithCopyWarning: \n",
      "A value is trying to be set on a copy of a slice from a DataFrame.\n",
      "Try using .loc[row_indexer,col_indexer] = value instead\n",
      "\n",
      "See the caveats in the documentation: https://pandas.pydata.org/pandas-docs/stable/user_guide/indexing.html#returning-a-view-versus-a-copy\n",
      "  X[feature_to_scale]=scale\n",
      "C:\\ProgramData\\Anaconda3\\lib\\site-packages\\pandas\\core\\indexing.py:1736: SettingWithCopyWarning: \n",
      "A value is trying to be set on a copy of a slice from a DataFrame.\n",
      "Try using .loc[row_indexer,col_indexer] = value instead\n",
      "\n",
      "See the caveats in the documentation: https://pandas.pydata.org/pandas-docs/stable/user_guide/indexing.html#returning-a-view-versus-a-copy\n",
      "  isetter(loc, value[:, i].tolist())\n",
      "<ipython-input-4-2b440a3bce64>:9: SettingWithCopyWarning: \n",
      "A value is trying to be set on a copy of a slice from a DataFrame.\n",
      "Try using .loc[row_indexer,col_indexer] = value instead\n",
      "\n",
      "See the caveats in the documentation: https://pandas.pydata.org/pandas-docs/stable/user_guide/indexing.html#returning-a-view-versus-a-copy\n",
      "  X1[feature_to_scale1]=scale1\n",
      "<ipython-input-4-2b440a3bce64>:10: SettingWithCopyWarning: \n",
      "A value is trying to be set on a copy of a slice from a DataFrame.\n",
      "Try using .loc[row_indexer,col_indexer] = value instead\n",
      "\n",
      "See the caveats in the documentation: https://pandas.pydata.org/pandas-docs/stable/user_guide/indexing.html#returning-a-view-versus-a-copy\n",
      "  X2[feature_to_scale2]=scale2\n"
     ]
    }
   ],
   "source": [
    "scaler=StandardScaler()\n",
    "feature_to_scale=['전국 스크린수','러닝타임','네티즌 평점','경쟁작']\n",
    "feature_to_scale1=['전국 스크린수','러닝타임','네티즌 평점']\n",
    "feature_to_scale2=['전국 스크린수','네티즌 평점']\n",
    "scale=scaler.fit_transform(data[feature_to_scale])\n",
    "scale1=scaler.fit_transform(data[feature_to_scale1])\n",
    "scale2=scaler.fit_transform(data[feature_to_scale2])\n",
    "X[feature_to_scale]=scale\n",
    "X1[feature_to_scale1]=scale1\n",
    "X2[feature_to_scale2]=scale2"
   ]
  },
  {
   "cell_type": "code",
   "execution_count": 5,
   "metadata": {},
   "outputs": [
    {
     "name": "stdout",
     "output_type": "stream",
     "text": [
      "1\n",
      "학습 데이터 점수 : 1.0\n",
      "평가 데이터 점수 : 0.35376468183309273\n",
      "학습 데이터 점수1 : 0.9999921114060766\n",
      "평가 데이터 점수1 : 0.5203805407158955\n",
      "학습 데이터 점수2 : 1.0\n",
      "평가 데이터 점수2 : 0.1013299634231235\n",
      "2\n",
      "학습 데이터 점수 : 1.0\n",
      "평가 데이터 점수 : 0.5268391799913343\n",
      "학습 데이터 점수1 : 0.9999960557030383\n",
      "평가 데이터 점수1 : 0.49571917075296223\n",
      "학습 데이터 점수2 : 1.0\n",
      "평가 데이터 점수2 : 0.3752383706296819\n",
      "3\n",
      "학습 데이터 점수 : 1.0\n",
      "평가 데이터 점수 : 0.4951750571466279\n",
      "학습 데이터 점수1 : 0.9999960557030383\n",
      "평가 데이터 점수1 : 0.5656334724096339\n",
      "학습 데이터 점수2 : 1.0\n",
      "평가 데이터 점수2 : 0.5000525404407341\n",
      "4\n",
      "학습 데이터 점수 : 1.0\n",
      "평가 데이터 점수 : 0.49844910960658406\n",
      "학습 데이터 점수1 : 0.9999960557030383\n",
      "평가 데이터 점수1 : 0.5555667972805214\n",
      "학습 데이터 점수2 : 1.0\n",
      "평가 데이터 점수2 : 0.5305211059740549\n",
      "5\n",
      "학습 데이터 점수 : 1.0\n",
      "평가 데이터 점수 : 0.5071049448654394\n",
      "학습 데이터 점수1 : 0.9999960557030383\n",
      "평가 데이터 점수1 : 0.5887814074513666\n",
      "학습 데이터 점수2 : 1.0\n",
      "평가 데이터 점수2 : 0.545486758185536\n",
      "6\n",
      "학습 데이터 점수 : 1.0\n",
      "평가 데이터 점수 : 0.5063596282085085\n",
      "학습 데이터 점수1 : 0.9999960557030383\n",
      "평가 데이터 점수1 : 0.5757003854917653\n",
      "학습 데이터 점수2 : 1.0\n",
      "평가 데이터 점수2 : 0.5707315720695662\n",
      "7\n",
      "학습 데이터 점수 : 1.0\n",
      "평가 데이터 점수 : 0.5337363518123598\n",
      "학습 데이터 점수1 : 0.9999960557030383\n",
      "평가 데이터 점수1 : 0.5895273091196409\n",
      "학습 데이터 점수2 : 1.0\n",
      "평가 데이터 점수2 : 0.576852302240998\n",
      "8\n",
      "학습 데이터 점수 : 1.0\n",
      "평가 데이터 점수 : 0.5533395427184246\n",
      "학습 데이터 점수1 : 0.9999960557030383\n",
      "평가 데이터 점수1 : 0.5871760724427211\n",
      "학습 데이터 점수2 : 1.0\n",
      "평가 데이터 점수2 : 0.5842935488973495\n",
      "9\n",
      "학습 데이터 점수 : 1.0\n",
      "평가 데이터 점수 : 0.5684667164861341\n",
      "학습 데이터 점수1 : 0.9999960557030383\n",
      "평가 데이터 점수1 : 0.6033167343436857\n",
      "학습 데이터 점수2 : 1.0\n",
      "평가 데이터 점수2 : 0.5937782719227838\n",
      "10\n",
      "학습 데이터 점수 : 1.0\n",
      "평가 데이터 점수 : 0.5792875676380783\n",
      "학습 데이터 점수1 : 0.9999960557030383\n",
      "평가 데이터 점수1 : 0.614574066656966\n",
      "학습 데이터 점수2 : 1.0\n",
      "평가 데이터 점수2 : 0.5915076365627829\n",
      "11\n",
      "학습 데이터 점수 : 1.0\n",
      "평가 데이터 점수 : 0.5688012370372548\n",
      "학습 데이터 점수1 : 0.9999960557030383\n",
      "평가 데이터 점수1 : 0.6246923775522291\n",
      "학습 데이터 점수2 : 1.0\n",
      "평가 데이터 점수2 : 0.5903172603941287\n",
      "12\n",
      "학습 데이터 점수 : 1.0\n",
      "평가 데이터 점수 : 0.5492398273345604\n",
      "학습 데이터 점수1 : 0.9999960557030383\n",
      "평가 데이터 점수1 : 0.6309081212504272\n",
      "학습 데이터 점수2 : 1.0\n",
      "평가 데이터 점수2 : 0.5952043106008672\n",
      "13\n",
      "학습 데이터 점수 : 1.0\n",
      "평가 데이터 점수 : 0.5413506924190532\n",
      "학습 데이터 점수1 : 0.9999960557030383\n",
      "평가 데이터 점수1 : 0.6343168934385219\n",
      "학습 데이터 점수2 : 1.0\n",
      "평가 데이터 점수2 : 0.5924358897426873\n",
      "14\n",
      "학습 데이터 점수 : 1.0\n",
      "평가 데이터 점수 : 0.536127110717511\n",
      "학습 데이터 점수1 : 0.9999960557030383\n",
      "평가 데이터 점수1 : 0.6232543577871086\n",
      "학습 데이터 점수2 : 1.0\n",
      "평가 데이터 점수2 : 0.5880367997413016\n",
      "15\n",
      "학습 데이터 점수 : 1.0\n",
      "평가 데이터 점수 : 0.5277405051205676\n",
      "학습 데이터 점수1 : 0.9999960557030383\n",
      "평가 데이터 점수1 : 0.6208852863884646\n",
      "학습 데이터 점수2 : 1.0\n",
      "평가 데이터 점수2 : 0.5820317581775842\n",
      "16\n",
      "학습 데이터 점수 : 1.0\n",
      "평가 데이터 점수 : 0.5239208895891996\n",
      "학습 데이터 점수1 : 0.9999960557030383\n",
      "평가 데이터 점수1 : 0.6169917313194064\n",
      "학습 데이터 점수2 : 1.0\n",
      "평가 데이터 점수2 : 0.5938286309180572\n",
      "17\n",
      "학습 데이터 점수 : 1.0\n",
      "평가 데이터 점수 : 0.5165977454662839\n",
      "학습 데이터 점수1 : 0.9999960557030383\n",
      "평가 데이터 점수1 : 0.6132415722467511\n",
      "학습 데이터 점수2 : 1.0\n",
      "평가 데이터 점수2 : 0.5841511560802537\n",
      "18\n",
      "학습 데이터 점수 : 1.0\n",
      "평가 데이터 점수 : 0.512399309886727\n",
      "학습 데이터 점수1 : 0.9999960557030383\n",
      "평가 데이터 점수1 : 0.6068952524886689\n",
      "학습 데이터 점수2 : 1.0\n",
      "평가 데이터 점수2 : 0.5763856105029961\n",
      "19\n",
      "학습 데이터 점수 : 1.0\n",
      "평가 데이터 점수 : 0.5105852481206733\n",
      "학습 데이터 점수1 : 0.9999960557030383\n",
      "평가 데이터 점수1 : 0.6091558399066936\n",
      "학습 데이터 점수2 : 1.0\n",
      "평가 데이터 점수2 : 0.567842649745511\n",
      "20\n",
      "학습 데이터 점수 : 1.0\n",
      "평가 데이터 점수 : 0.5093797216890019\n",
      "학습 데이터 점수1 : 0.9999960557030383\n",
      "평가 데이터 점수1 : 0.6029409573136739\n",
      "학습 데이터 점수2 : 1.0\n",
      "평가 데이터 점수2 : 0.5616581482514595\n",
      "21\n",
      "학습 데이터 점수 : 1.0\n",
      "평가 데이터 점수 : 0.5073489484488548\n",
      "학습 데이터 점수1 : 0.9999960557030383\n",
      "평가 데이터 점수1 : 0.6005544356936523\n",
      "학습 데이터 점수2 : 1.0\n",
      "평가 데이터 점수2 : 0.5569674940870009\n",
      "22\n",
      "학습 데이터 점수 : 1.0\n",
      "평가 데이터 점수 : 0.5042962318536423\n",
      "학습 데이터 점수1 : 0.9999960557030383\n",
      "평가 데이터 점수1 : 0.5968103202331041\n",
      "학습 데이터 점수2 : 1.0\n",
      "평가 데이터 점수2 : 0.5534645815755361\n",
      "23\n",
      "학습 데이터 점수 : 1.0\n",
      "평가 데이터 점수 : 0.5030478401161034\n",
      "학습 데이터 점수1 : 0.9999960557030383\n",
      "평가 데이터 점수1 : 0.5962723655570983\n",
      "학습 데이터 점수2 : 1.0\n",
      "평가 데이터 점수2 : 0.5459183424003775\n",
      "24\n",
      "학습 데이터 점수 : 1.0\n",
      "평가 데이터 점수 : 0.5091753408709363\n",
      "학습 데이터 점수1 : 0.9999960557030383\n",
      "평가 데이터 점수1 : 0.596862656680637\n",
      "학습 데이터 점수2 : 1.0\n",
      "평가 데이터 점수2 : 0.547062409338164\n",
      "25\n",
      "학습 데이터 점수 : 1.0\n",
      "평가 데이터 점수 : 0.5032746379001221\n",
      "학습 데이터 점수1 : 0.9999960557030383\n",
      "평가 데이터 점수1 : 0.5940613203942752\n",
      "학습 데이터 점수2 : 1.0\n",
      "평가 데이터 점수2 : 0.544679780114334\n",
      "26\n",
      "학습 데이터 점수 : 1.0\n",
      "평가 데이터 점수 : 0.5012645188986788\n",
      "학습 데이터 점수1 : 0.9999960557030383\n",
      "평가 데이터 점수1 : 0.5872992958830926\n",
      "학습 데이터 점수2 : 1.0\n",
      "평가 데이터 점수2 : 0.5418683510519652\n",
      "27\n",
      "학습 데이터 점수 : 1.0\n",
      "평가 데이터 점수 : 0.4987026051162261\n",
      "학습 데이터 점수1 : 0.9999960557030383\n",
      "평가 데이터 점수1 : 0.5845444950336007\n",
      "학습 데이터 점수2 : 1.0\n",
      "평가 데이터 점수2 : 0.5399123722233836\n",
      "28\n",
      "학습 데이터 점수 : 1.0\n",
      "평가 데이터 점수 : 0.48917595091343635\n",
      "학습 데이터 점수1 : 0.9999960557030383\n",
      "평가 데이터 점수1 : 0.580401130223389\n",
      "학습 데이터 점수2 : 1.0\n",
      "평가 데이터 점수2 : 0.5406011891610604\n",
      "29\n",
      "학습 데이터 점수 : 1.0\n",
      "평가 데이터 점수 : 0.4906078163490921\n",
      "학습 데이터 점수1 : 0.9999960557030383\n",
      "평가 데이터 점수1 : 0.5812650041912182\n",
      "학습 데이터 점수2 : 1.0\n",
      "평가 데이터 점수2 : 0.5403551128860979\n"
     ]
    }
   ],
   "source": [
    "#k-최근접 이웃 알고리즘(회귀)\n",
    "X_train,X_test,y_train,y_test= train_test_split(X,y,random_state=5,test_size=0.2)\n",
    "X_train1,X_test1,y_train1,y_test1=train_test_split(X1,y,random_state=5,test_size=0.2)\n",
    "X_train2,X_test2,y_train2,y_test2=train_test_split(X2,y,random_state=5,test_size=0.2)\n",
    "t=pd.DataFrame(columns=['i','score'])\n",
    "t1=pd.DataFrame(columns=['i','score'])\n",
    "t2=pd.DataFrame(columns=['i','score'])\n",
    "for i in range(1,30):\n",
    "    knr= KNeighborsRegressor(n_neighbors=i, weights=\"distance\")\n",
    "    knr1= KNeighborsRegressor(n_neighbors=i, weights=\"distance\")\n",
    "    knr2= KNeighborsRegressor(n_neighbors=i, weights=\"distance\")\n",
    "\n",
    "    knr.fit(X_train,y_train)\n",
    "    knr1.fit(X_train1,y_train1)\n",
    "    knr2.fit(X_train2,y_train2)\n",
    "    print(i)\n",
    "    print(\"학습 데이터 점수 : {}\".format(knr.score(X_train,y_train)))\n",
    "    print(\"평가 데이터 점수 : {}\".format(knr.score(X_test,y_test)))\n",
    "    print(\"학습 데이터 점수1 : {}\".format(knr1.score(X_train1,y_train1)))\n",
    "    print(\"평가 데이터 점수1 : {}\".format(knr1.score(X_test1,y_test1)))\n",
    "    print(\"학습 데이터 점수2 : {}\".format(knr2.score(X_train2,y_train2)))\n",
    "    print(\"평가 데이터 점수2 : {}\".format(knr2.score(X_test2,y_test2)))\n",
    "    t.loc[i-1]=[i,knr.score(X_test,y_test)]\n",
    "    t1.loc[i-1]=[i,knr1.score(X_test1,y_test1)]\n",
    "    t2.loc[i-1]=[i,knr2.score(X_test2,y_test2)]"
   ]
  },
  {
   "cell_type": "code",
   "execution_count": 6,
   "metadata": {},
   "outputs": [
    {
     "data": {
      "text/plain": [
       "<matplotlib.legend.Legend at 0x26146534eb0>"
      ]
     },
     "execution_count": 6,
     "metadata": {},
     "output_type": "execute_result"
    },
    {
     "data": {
      "image/png": "[encoded data removed]",
      "text/plain": [
       "<Figure size 1080x576 with 1 Axes>"
      ]
     },
     "metadata": {
      "needs_background": "light"
     },
     "output_type": "display_data"
    }
   ],
   "source": [
    "plt.figure(figsize=(15,8))\n",
    "plt.grid()\n",
    "plt.plot(t[['i']],t[['score']],label=\"all\")\n",
    "plt.plot(t1[['i']],t1[['score']],label=\"coef\")\n",
    "plt.plot(t2[['i']],t2[['score']],label=\"stepwise\")\n",
    "plt.legend()"
   ]
  },
  {
   "cell_type": "code",
   "execution_count": 7,
   "metadata": {
    "scrolled": true
   },
   "outputs": [
    {
     "name": "stdout",
     "output_type": "stream",
     "text": [
      "학습 데이터 점수 : 1.0\n",
      "평가 데이터 점수 : 0.5792875676380783\n",
      "rmse : 1346076.6250725326\n",
      "학습 데이터 점수 : 0.9999960557030383\n",
      "평가 데이터 점수 : 0.6343168934385219\n",
      "rmse1 : 1254959.0610196576\n",
      "학습 데이터 점수 : 1.0\n",
      "평가 데이터 점수 : 0.5952043106008672\n",
      "rmse2 : 1320368.1791512724\n"
     ]
    }
   ],
   "source": [
    "X_train,X_test,y_train,y_test= train_test_split(X,y,random_state=5,test_size=0.2)\n",
    "X_train1,X_test1,y_train1,y_test1=train_test_split(X1,y,random_state=5, test_size=0.2)\n",
    "X_train2,X_test2,y_train2,y_test2=train_test_split(X2,y,random_state=5, test_size=0.2)\n",
    "\n",
    "knr= KNeighborsRegressor(n_neighbors=10, weights=\"distance\")\n",
    "knr1= KNeighborsRegressor(n_neighbors=13, weights=\"distance\")\n",
    "knr2= KNeighborsRegressor(n_neighbors=12, weights=\"distance\")\n",
    "\n",
    "knr.fit(X_train,y_train)\n",
    "knr1.fit(X_train1,y_train1)\n",
    "knr2.fit(X_train2,y_train2)\n",
    "\n",
    "y_pred=knr.predict(X_test)\n",
    "y_pred1=knr1.predict(X_test1)\n",
    "y_pred2=knr2.predict(X_test2)\n",
    "\n",
    "for i in range(0,199):\n",
    "    if y_pred[i]<0:\n",
    "        y_pred[i]=0\n",
    "    if y_pred1[i]<0:\n",
    "        y_pred1[i]=0\n",
    "    if y_pred2[i]<0:\n",
    "        y_pred2[i]=0\n",
    "\n",
    "rmse=np.sqrt(mean_squared_error(y_test,y_pred))\n",
    "rmse1=np.sqrt(mean_squared_error(y_test1,y_pred1))\n",
    "rmse2=np.sqrt(mean_squared_error(y_test2,y_pred2))\n",
    "\n",
    "print(\"학습 데이터 점수 : {}\".format(knr.score(X_train,y_train)))\n",
    "print(\"평가 데이터 점수 : {}\".format(knr.score(X_test,y_test)))\n",
    "print(\"rmse : {}\".format(rmse))\n",
    "\n",
    "print(\"학습 데이터 점수 : {}\".format(knr1.score(X_train1,y_train1)))\n",
    "print(\"평가 데이터 점수 : {}\".format(knr1.score(X_test1,y_test1)))\n",
    "print(\"rmse1 : {}\".format(rmse1))\n",
    "\n",
    "print(\"학습 데이터 점수 : {}\".format(knr2.score(X_train2,y_train2)))\n",
    "print(\"평가 데이터 점수 : {}\".format(knr2.score(X_test2,y_test2)))\n",
    "print(\"rmse2 : {}\".format(rmse2))"
   ]
  },
  {
   "cell_type": "code",
   "execution_count": 8,
   "metadata": {},
   "outputs": [
    {
     "data": {
      "image/png": "[encoded data removed]",
      "text/plain": [
       "<Figure size 720x1080 with 3 Axes>"
      ]
     },
     "metadata": {
      "needs_background": "light"
     },
     "output_type": "display_data"
    }
   ],
   "source": [
    "n=np.arange(0,15000000)\n",
    "plt.figure(figsize=(10,15))\n",
    "plt.subplot(311)\n",
    "plt.scatter(y_test,y_pred,marker='o')\n",
    "plt.xlabel(\"y_test\")\n",
    "plt.ylabel(\"y_pred\")\n",
    "plt.plot(n,n,color='r')\n",
    "plt.subplot(312)\n",
    "plt.scatter(y_test1,y_pred1,marker='o')\n",
    "plt.xlabel(\"y_test\")\n",
    "plt.ylabel(\"y_pred\")\n",
    "plt.plot(n,n,color='r')\n",
    "plt.subplot(313)\n",
    "plt.scatter(y_test2,y_pred2, marker='o')\n",
    "plt.xlabel(\"y_test\")\n",
    "plt.ylabel(\"y_pred\")\n",
    "plt.plot(n,n,color='r')\n",
    "plt.show()"
   ]
  },
  {
   "cell_type": "code",
   "execution_count": 9,
   "metadata": {},
   "outputs": [
    {
     "name": "stderr",
     "output_type": "stream",
     "text": [
      "<ipython-input-9-2595995f14ad>:12: DataConversionWarning: A column-vector y was passed when a 1d array was expected. Please change the shape of y to (n_samples, ), for example using ravel().\n",
      "  knn.fit(X_train,y1_train)\n",
      "<ipython-input-9-2595995f14ad>:13: DataConversionWarning: A column-vector y was passed when a 1d array was expected. Please change the shape of y to (n_samples, ), for example using ravel().\n",
      "  knn1.fit(X_train1,y1_train1)\n",
      "<ipython-input-9-2595995f14ad>:14: DataConversionWarning: A column-vector y was passed when a 1d array was expected. Please change the shape of y to (n_samples, ), for example using ravel().\n",
      "  knn2.fit(X_train2,y1_train2)\n",
      "<ipython-input-9-2595995f14ad>:12: DataConversionWarning: A column-vector y was passed when a 1d array was expected. Please change the shape of y to (n_samples, ), for example using ravel().\n",
      "  knn.fit(X_train,y1_train)\n",
      "<ipython-input-9-2595995f14ad>:13: DataConversionWarning: A column-vector y was passed when a 1d array was expected. Please change the shape of y to (n_samples, ), for example using ravel().\n",
      "  knn1.fit(X_train1,y1_train1)\n",
      "<ipython-input-9-2595995f14ad>:14: DataConversionWarning: A column-vector y was passed when a 1d array was expected. Please change the shape of y to (n_samples, ), for example using ravel().\n",
      "  knn2.fit(X_train2,y1_train2)\n",
      "<ipython-input-9-2595995f14ad>:12: DataConversionWarning: A column-vector y was passed when a 1d array was expected. Please change the shape of y to (n_samples, ), for example using ravel().\n",
      "  knn.fit(X_train,y1_train)\n",
      "<ipython-input-9-2595995f14ad>:13: DataConversionWarning: A column-vector y was passed when a 1d array was expected. Please change the shape of y to (n_samples, ), for example using ravel().\n",
      "  knn1.fit(X_train1,y1_train1)\n",
      "<ipython-input-9-2595995f14ad>:14: DataConversionWarning: A column-vector y was passed when a 1d array was expected. Please change the shape of y to (n_samples, ), for example using ravel().\n",
      "  knn2.fit(X_train2,y1_train2)\n",
      "<ipython-input-9-2595995f14ad>:12: DataConversionWarning: A column-vector y was passed when a 1d array was expected. Please change the shape of y to (n_samples, ), for example using ravel().\n",
      "  knn.fit(X_train,y1_train)\n"
     ]
    },
    {
     "name": "stdout",
     "output_type": "stream",
     "text": [
      "1\n",
      "학습 데이터 점수 : 1.0\n",
      "평가 데이터 점수 : 0.575\n",
      "학습 데이터 점수1 : 1.0\n",
      "평가 데이터 점수1 : 0.575\n",
      "학습 데이터 점수2 : 1.0\n",
      "평가 데이터 점수2 : 0.545\n",
      "2\n",
      "학습 데이터 점수 : 1.0\n",
      "평가 데이터 점수 : 0.575\n",
      "학습 데이터 점수1 : 1.0\n",
      "평가 데이터 점수1 : 0.575\n",
      "학습 데이터 점수2 : 1.0\n",
      "평가 데이터 점수2 : 0.545\n",
      "3\n",
      "학습 데이터 점수 : 1.0\n",
      "평가 데이터 점수 : 0.605\n",
      "학습 데이터 점수1 : 1.0\n",
      "평가 데이터 점수1 : 0.6\n",
      "학습 데이터 점수2 : 1.0\n",
      "평가 데이터 점수2 : 0.575\n"
     ]
    },
    {
     "name": "stderr",
     "output_type": "stream",
     "text": [
      "<ipython-input-9-2595995f14ad>:13: DataConversionWarning: A column-vector y was passed when a 1d array was expected. Please change the shape of y to (n_samples, ), for example using ravel().\n",
      "  knn1.fit(X_train1,y1_train1)\n",
      "<ipython-input-9-2595995f14ad>:14: DataConversionWarning: A column-vector y was passed when a 1d array was expected. Please change the shape of y to (n_samples, ), for example using ravel().\n",
      "  knn2.fit(X_train2,y1_train2)\n",
      "<ipython-input-9-2595995f14ad>:12: DataConversionWarning: A column-vector y was passed when a 1d array was expected. Please change the shape of y to (n_samples, ), for example using ravel().\n",
      "  knn.fit(X_train,y1_train)\n",
      "<ipython-input-9-2595995f14ad>:13: DataConversionWarning: A column-vector y was passed when a 1d array was expected. Please change the shape of y to (n_samples, ), for example using ravel().\n",
      "  knn1.fit(X_train1,y1_train1)\n",
      "<ipython-input-9-2595995f14ad>:14: DataConversionWarning: A column-vector y was passed when a 1d array was expected. Please change the shape of y to (n_samples, ), for example using ravel().\n",
      "  knn2.fit(X_train2,y1_train2)\n",
      "<ipython-input-9-2595995f14ad>:12: DataConversionWarning: A column-vector y was passed when a 1d array was expected. Please change the shape of y to (n_samples, ), for example using ravel().\n",
      "  knn.fit(X_train,y1_train)\n",
      "<ipython-input-9-2595995f14ad>:13: DataConversionWarning: A column-vector y was passed when a 1d array was expected. Please change the shape of y to (n_samples, ), for example using ravel().\n",
      "  knn1.fit(X_train1,y1_train1)\n",
      "<ipython-input-9-2595995f14ad>:14: DataConversionWarning: A column-vector y was passed when a 1d array was expected. Please change the shape of y to (n_samples, ), for example using ravel().\n",
      "  knn2.fit(X_train2,y1_train2)\n"
     ]
    },
    {
     "name": "stdout",
     "output_type": "stream",
     "text": [
      "4\n",
      "학습 데이터 점수 : 1.0\n",
      "평가 데이터 점수 : 0.615\n",
      "학습 데이터 점수1 : 1.0\n",
      "평가 데이터 점수1 : 0.585\n",
      "학습 데이터 점수2 : 1.0\n",
      "평가 데이터 점수2 : 0.615\n",
      "5\n",
      "학습 데이터 점수 : 1.0\n",
      "평가 데이터 점수 : 0.655\n",
      "학습 데이터 점수1 : 1.0\n",
      "평가 데이터 점수1 : 0.615\n",
      "학습 데이터 점수2 : 1.0\n",
      "평가 데이터 점수2 : 0.585\n",
      "6\n",
      "학습 데이터 점수 : 1.0\n",
      "평가 데이터 점수 : 0.64\n",
      "학습 데이터 점수1 : 1.0\n",
      "평가 데이터 점수1 : 0.615\n",
      "학습 데이터 점수2 : 1.0\n",
      "평가 데이터 점수2 : 0.59\n",
      "7\n",
      "학습 데이터 점수 : 1.0\n",
      "평가 데이터 점수 : 0.68\n",
      "학습 데이터 점수1 : 1.0\n",
      "평가 데이터 점수1 : 0.635\n",
      "학습 데이터 점수2 : 1.0\n",
      "평가 데이터 점수2 : 0.6\n",
      "8\n",
      "학습 데이터 점수 : 1.0\n",
      "평가 데이터 점수 : 0.67\n",
      "학습 데이터 점수1 : 1.0\n",
      "평가 데이터 점수1 : 0.655\n",
      "학습 데이터 점수2 : 1.0\n",
      "평가 데이터 점수2 : 0.62\n",
      "9\n",
      "학습 데이터 점수 : 1.0\n"
     ]
    },
    {
     "name": "stderr",
     "output_type": "stream",
     "text": [
      "<ipython-input-9-2595995f14ad>:12: DataConversionWarning: A column-vector y was passed when a 1d array was expected. Please change the shape of y to (n_samples, ), for example using ravel().\n",
      "  knn.fit(X_train,y1_train)\n",
      "<ipython-input-9-2595995f14ad>:13: DataConversionWarning: A column-vector y was passed when a 1d array was expected. Please change the shape of y to (n_samples, ), for example using ravel().\n",
      "  knn1.fit(X_train1,y1_train1)\n",
      "<ipython-input-9-2595995f14ad>:14: DataConversionWarning: A column-vector y was passed when a 1d array was expected. Please change the shape of y to (n_samples, ), for example using ravel().\n",
      "  knn2.fit(X_train2,y1_train2)\n",
      "<ipython-input-9-2595995f14ad>:12: DataConversionWarning: A column-vector y was passed when a 1d array was expected. Please change the shape of y to (n_samples, ), for example using ravel().\n",
      "  knn.fit(X_train,y1_train)\n",
      "<ipython-input-9-2595995f14ad>:13: DataConversionWarning: A column-vector y was passed when a 1d array was expected. Please change the shape of y to (n_samples, ), for example using ravel().\n",
      "  knn1.fit(X_train1,y1_train1)\n",
      "<ipython-input-9-2595995f14ad>:14: DataConversionWarning: A column-vector y was passed when a 1d array was expected. Please change the shape of y to (n_samples, ), for example using ravel().\n",
      "  knn2.fit(X_train2,y1_train2)\n",
      "<ipython-input-9-2595995f14ad>:12: DataConversionWarning: A column-vector y was passed when a 1d array was expected. Please change the shape of y to (n_samples, ), for example using ravel().\n",
      "  knn.fit(X_train,y1_train)\n",
      "<ipython-input-9-2595995f14ad>:13: DataConversionWarning: A column-vector y was passed when a 1d array was expected. Please change the shape of y to (n_samples, ), for example using ravel().\n",
      "  knn1.fit(X_train1,y1_train1)\n",
      "<ipython-input-9-2595995f14ad>:14: DataConversionWarning: A column-vector y was passed when a 1d array was expected. Please change the shape of y to (n_samples, ), for example using ravel().\n",
      "  knn2.fit(X_train2,y1_train2)\n"
     ]
    },
    {
     "name": "stdout",
     "output_type": "stream",
     "text": [
      "평가 데이터 점수 : 0.655\n",
      "학습 데이터 점수1 : 1.0\n",
      "평가 데이터 점수1 : 0.67\n",
      "학습 데이터 점수2 : 1.0\n",
      "평가 데이터 점수2 : 0.62\n",
      "10\n",
      "학습 데이터 점수 : 1.0\n",
      "평가 데이터 점수 : 0.645\n",
      "학습 데이터 점수1 : 1.0\n",
      "평가 데이터 점수1 : 0.705\n",
      "학습 데이터 점수2 : 1.0\n",
      "평가 데이터 점수2 : 0.63\n",
      "11\n",
      "학습 데이터 점수 : 1.0\n",
      "평가 데이터 점수 : 0.625\n",
      "학습 데이터 점수1 : 1.0\n",
      "평가 데이터 점수1 : 0.68\n",
      "학습 데이터 점수2 : 1.0\n",
      "평가 데이터 점수2 : 0.635\n"
     ]
    },
    {
     "name": "stderr",
     "output_type": "stream",
     "text": [
      "<ipython-input-9-2595995f14ad>:12: DataConversionWarning: A column-vector y was passed when a 1d array was expected. Please change the shape of y to (n_samples, ), for example using ravel().\n",
      "  knn.fit(X_train,y1_train)\n",
      "<ipython-input-9-2595995f14ad>:13: DataConversionWarning: A column-vector y was passed when a 1d array was expected. Please change the shape of y to (n_samples, ), for example using ravel().\n",
      "  knn1.fit(X_train1,y1_train1)\n",
      "<ipython-input-9-2595995f14ad>:14: DataConversionWarning: A column-vector y was passed when a 1d array was expected. Please change the shape of y to (n_samples, ), for example using ravel().\n",
      "  knn2.fit(X_train2,y1_train2)\n",
      "<ipython-input-9-2595995f14ad>:12: DataConversionWarning: A column-vector y was passed when a 1d array was expected. Please change the shape of y to (n_samples, ), for example using ravel().\n",
      "  knn.fit(X_train,y1_train)\n",
      "<ipython-input-9-2595995f14ad>:13: DataConversionWarning: A column-vector y was passed when a 1d array was expected. Please change the shape of y to (n_samples, ), for example using ravel().\n",
      "  knn1.fit(X_train1,y1_train1)\n",
      "<ipython-input-9-2595995f14ad>:14: DataConversionWarning: A column-vector y was passed when a 1d array was expected. Please change the shape of y to (n_samples, ), for example using ravel().\n",
      "  knn2.fit(X_train2,y1_train2)\n",
      "<ipython-input-9-2595995f14ad>:12: DataConversionWarning: A column-vector y was passed when a 1d array was expected. Please change the shape of y to (n_samples, ), for example using ravel().\n",
      "  knn.fit(X_train,y1_train)\n",
      "<ipython-input-9-2595995f14ad>:13: DataConversionWarning: A column-vector y was passed when a 1d array was expected. Please change the shape of y to (n_samples, ), for example using ravel().\n",
      "  knn1.fit(X_train1,y1_train1)\n",
      "<ipython-input-9-2595995f14ad>:14: DataConversionWarning: A column-vector y was passed when a 1d array was expected. Please change the shape of y to (n_samples, ), for example using ravel().\n",
      "  knn2.fit(X_train2,y1_train2)\n"
     ]
    },
    {
     "name": "stdout",
     "output_type": "stream",
     "text": [
      "12\n",
      "학습 데이터 점수 : 1.0\n",
      "평가 데이터 점수 : 0.62\n",
      "학습 데이터 점수1 : 1.0\n",
      "평가 데이터 점수1 : 0.685\n",
      "학습 데이터 점수2 : 1.0\n",
      "평가 데이터 점수2 : 0.65\n",
      "13\n",
      "학습 데이터 점수 : 1.0\n",
      "평가 데이터 점수 : 0.63\n",
      "학습 데이터 점수1 : 1.0\n",
      "평가 데이터 점수1 : 0.67\n",
      "학습 데이터 점수2 : 1.0\n",
      "평가 데이터 점수2 : 0.66\n",
      "14\n",
      "학습 데이터 점수 : 1.0\n",
      "평가 데이터 점수 : 0.625\n",
      "학습 데이터 점수1 : 1.0\n"
     ]
    },
    {
     "name": "stderr",
     "output_type": "stream",
     "text": [
      "<ipython-input-9-2595995f14ad>:12: DataConversionWarning: A column-vector y was passed when a 1d array was expected. Please change the shape of y to (n_samples, ), for example using ravel().\n",
      "  knn.fit(X_train,y1_train)\n",
      "<ipython-input-9-2595995f14ad>:13: DataConversionWarning: A column-vector y was passed when a 1d array was expected. Please change the shape of y to (n_samples, ), for example using ravel().\n",
      "  knn1.fit(X_train1,y1_train1)\n",
      "<ipython-input-9-2595995f14ad>:14: DataConversionWarning: A column-vector y was passed when a 1d array was expected. Please change the shape of y to (n_samples, ), for example using ravel().\n",
      "  knn2.fit(X_train2,y1_train2)\n",
      "<ipython-input-9-2595995f14ad>:12: DataConversionWarning: A column-vector y was passed when a 1d array was expected. Please change the shape of y to (n_samples, ), for example using ravel().\n",
      "  knn.fit(X_train,y1_train)\n",
      "<ipython-input-9-2595995f14ad>:13: DataConversionWarning: A column-vector y was passed when a 1d array was expected. Please change the shape of y to (n_samples, ), for example using ravel().\n",
      "  knn1.fit(X_train1,y1_train1)\n",
      "<ipython-input-9-2595995f14ad>:14: DataConversionWarning: A column-vector y was passed when a 1d array was expected. Please change the shape of y to (n_samples, ), for example using ravel().\n",
      "  knn2.fit(X_train2,y1_train2)\n",
      "<ipython-input-9-2595995f14ad>:12: DataConversionWarning: A column-vector y was passed when a 1d array was expected. Please change the shape of y to (n_samples, ), for example using ravel().\n",
      "  knn.fit(X_train,y1_train)\n",
      "<ipython-input-9-2595995f14ad>:13: DataConversionWarning: A column-vector y was passed when a 1d array was expected. Please change the shape of y to (n_samples, ), for example using ravel().\n",
      "  knn1.fit(X_train1,y1_train1)\n",
      "<ipython-input-9-2595995f14ad>:14: DataConversionWarning: A column-vector y was passed when a 1d array was expected. Please change the shape of y to (n_samples, ), for example using ravel().\n",
      "  knn2.fit(X_train2,y1_train2)\n"
     ]
    },
    {
     "name": "stdout",
     "output_type": "stream",
     "text": [
      "평가 데이터 점수1 : 0.675\n",
      "학습 데이터 점수2 : 1.0\n",
      "평가 데이터 점수2 : 0.66\n",
      "15\n",
      "학습 데이터 점수 : 1.0\n",
      "평가 데이터 점수 : 0.66\n",
      "학습 데이터 점수1 : 1.0\n",
      "평가 데이터 점수1 : 0.65\n",
      "학습 데이터 점수2 : 1.0\n",
      "평가 데이터 점수2 : 0.65\n",
      "16\n",
      "학습 데이터 점수 : 1.0\n",
      "평가 데이터 점수 : 0.655\n",
      "학습 데이터 점수1 : 1.0\n",
      "평가 데이터 점수1 : 0.655\n",
      "학습 데이터 점수2 : 1.0\n",
      "평가 데이터 점수2 : 0.665\n"
     ]
    },
    {
     "name": "stderr",
     "output_type": "stream",
     "text": [
      "<ipython-input-9-2595995f14ad>:12: DataConversionWarning: A column-vector y was passed when a 1d array was expected. Please change the shape of y to (n_samples, ), for example using ravel().\n",
      "  knn.fit(X_train,y1_train)\n",
      "<ipython-input-9-2595995f14ad>:13: DataConversionWarning: A column-vector y was passed when a 1d array was expected. Please change the shape of y to (n_samples, ), for example using ravel().\n",
      "  knn1.fit(X_train1,y1_train1)\n",
      "<ipython-input-9-2595995f14ad>:14: DataConversionWarning: A column-vector y was passed when a 1d array was expected. Please change the shape of y to (n_samples, ), for example using ravel().\n",
      "  knn2.fit(X_train2,y1_train2)\n",
      "<ipython-input-9-2595995f14ad>:12: DataConversionWarning: A column-vector y was passed when a 1d array was expected. Please change the shape of y to (n_samples, ), for example using ravel().\n",
      "  knn.fit(X_train,y1_train)\n",
      "<ipython-input-9-2595995f14ad>:13: DataConversionWarning: A column-vector y was passed when a 1d array was expected. Please change the shape of y to (n_samples, ), for example using ravel().\n",
      "  knn1.fit(X_train1,y1_train1)\n",
      "<ipython-input-9-2595995f14ad>:14: DataConversionWarning: A column-vector y was passed when a 1d array was expected. Please change the shape of y to (n_samples, ), for example using ravel().\n",
      "  knn2.fit(X_train2,y1_train2)\n",
      "<ipython-input-9-2595995f14ad>:12: DataConversionWarning: A column-vector y was passed when a 1d array was expected. Please change the shape of y to (n_samples, ), for example using ravel().\n",
      "  knn.fit(X_train,y1_train)\n"
     ]
    },
    {
     "name": "stdout",
     "output_type": "stream",
     "text": [
      "17\n",
      "학습 데이터 점수 : 1.0\n",
      "평가 데이터 점수 : 0.655\n",
      "학습 데이터 점수1 : 1.0\n",
      "평가 데이터 점수1 : 0.66\n",
      "학습 데이터 점수2 : 1.0\n",
      "평가 데이터 점수2 : 0.64\n",
      "18\n",
      "학습 데이터 점수 : 1.0\n",
      "평가 데이터 점수 : 0.65\n",
      "학습 데이터 점수1 : 1.0\n",
      "평가 데이터 점수1 : 0.675\n",
      "학습 데이터 점수2 : 1.0\n",
      "평가 데이터 점수2 : 0.66\n",
      "19\n",
      "학습 데이터 점수 : 1.0"
     ]
    },
    {
     "name": "stderr",
     "output_type": "stream",
     "text": [
      "<ipython-input-9-2595995f14ad>:13: DataConversionWarning: A column-vector y was passed when a 1d array was expected. Please change the shape of y to (n_samples, ), for example using ravel().\n",
      "  knn1.fit(X_train1,y1_train1)\n",
      "<ipython-input-9-2595995f14ad>:14: DataConversionWarning: A column-vector y was passed when a 1d array was expected. Please change the shape of y to (n_samples, ), for example using ravel().\n",
      "  knn2.fit(X_train2,y1_train2)\n",
      "<ipython-input-9-2595995f14ad>:12: DataConversionWarning: A column-vector y was passed when a 1d array was expected. Please change the shape of y to (n_samples, ), for example using ravel().\n",
      "  knn.fit(X_train,y1_train)\n",
      "<ipython-input-9-2595995f14ad>:13: DataConversionWarning: A column-vector y was passed when a 1d array was expected. Please change the shape of y to (n_samples, ), for example using ravel().\n",
      "  knn1.fit(X_train1,y1_train1)\n",
      "<ipython-input-9-2595995f14ad>:14: DataConversionWarning: A column-vector y was passed when a 1d array was expected. Please change the shape of y to (n_samples, ), for example using ravel().\n",
      "  knn2.fit(X_train2,y1_train2)\n",
      "<ipython-input-9-2595995f14ad>:12: DataConversionWarning: A column-vector y was passed when a 1d array was expected. Please change the shape of y to (n_samples, ), for example using ravel().\n",
      "  knn.fit(X_train,y1_train)\n",
      "<ipython-input-9-2595995f14ad>:13: DataConversionWarning: A column-vector y was passed when a 1d array was expected. Please change the shape of y to (n_samples, ), for example using ravel().\n",
      "  knn1.fit(X_train1,y1_train1)\n",
      "<ipython-input-9-2595995f14ad>:14: DataConversionWarning: A column-vector y was passed when a 1d array was expected. Please change the shape of y to (n_samples, ), for example using ravel().\n",
      "  knn2.fit(X_train2,y1_train2)\n"
     ]
    },
    {
     "name": "stdout",
     "output_type": "stream",
     "text": [
      "\n",
      "평가 데이터 점수 : 0.67\n",
      "학습 데이터 점수1 : 1.0\n",
      "평가 데이터 점수1 : 0.66\n",
      "학습 데이터 점수2 : 1.0\n",
      "평가 데이터 점수2 : 0.665\n",
      "20\n",
      "학습 데이터 점수 : 1.0\n",
      "평가 데이터 점수 : 0.67\n",
      "학습 데이터 점수1 : 1.0\n",
      "평가 데이터 점수1 : 0.675\n",
      "학습 데이터 점수2 : 1.0\n",
      "평가 데이터 점수2 : 0.66\n",
      "21\n",
      "학습 데이터 점수 : 1.0\n",
      "평가 데이터 점수 : 0.66\n"
     ]
    },
    {
     "name": "stderr",
     "output_type": "stream",
     "text": [
      "<ipython-input-9-2595995f14ad>:12: DataConversionWarning: A column-vector y was passed when a 1d array was expected. Please change the shape of y to (n_samples, ), for example using ravel().\n",
      "  knn.fit(X_train,y1_train)\n",
      "<ipython-input-9-2595995f14ad>:13: DataConversionWarning: A column-vector y was passed when a 1d array was expected. Please change the shape of y to (n_samples, ), for example using ravel().\n",
      "  knn1.fit(X_train1,y1_train1)\n",
      "<ipython-input-9-2595995f14ad>:14: DataConversionWarning: A column-vector y was passed when a 1d array was expected. Please change the shape of y to (n_samples, ), for example using ravel().\n",
      "  knn2.fit(X_train2,y1_train2)\n",
      "<ipython-input-9-2595995f14ad>:12: DataConversionWarning: A column-vector y was passed when a 1d array was expected. Please change the shape of y to (n_samples, ), for example using ravel().\n",
      "  knn.fit(X_train,y1_train)\n",
      "<ipython-input-9-2595995f14ad>:13: DataConversionWarning: A column-vector y was passed when a 1d array was expected. Please change the shape of y to (n_samples, ), for example using ravel().\n",
      "  knn1.fit(X_train1,y1_train1)\n",
      "<ipython-input-9-2595995f14ad>:14: DataConversionWarning: A column-vector y was passed when a 1d array was expected. Please change the shape of y to (n_samples, ), for example using ravel().\n",
      "  knn2.fit(X_train2,y1_train2)\n",
      "<ipython-input-9-2595995f14ad>:12: DataConversionWarning: A column-vector y was passed when a 1d array was expected. Please change the shape of y to (n_samples, ), for example using ravel().\n",
      "  knn.fit(X_train,y1_train)\n",
      "<ipython-input-9-2595995f14ad>:13: DataConversionWarning: A column-vector y was passed when a 1d array was expected. Please change the shape of y to (n_samples, ), for example using ravel().\n",
      "  knn1.fit(X_train1,y1_train1)\n",
      "<ipython-input-9-2595995f14ad>:14: DataConversionWarning: A column-vector y was passed when a 1d array was expected. Please change the shape of y to (n_samples, ), for example using ravel().\n",
      "  knn2.fit(X_train2,y1_train2)\n"
     ]
    },
    {
     "name": "stdout",
     "output_type": "stream",
     "text": [
      "학습 데이터 점수1 : 1.0\n",
      "평가 데이터 점수1 : 0.66\n",
      "학습 데이터 점수2 : 1.0\n",
      "평가 데이터 점수2 : 0.66\n",
      "22\n",
      "학습 데이터 점수 : 1.0\n",
      "평가 데이터 점수 : 0.675\n",
      "학습 데이터 점수1 : 1.0\n",
      "평가 데이터 점수1 : 0.65\n",
      "학습 데이터 점수2 : 1.0\n",
      "평가 데이터 점수2 : 0.67\n",
      "23\n",
      "학습 데이터 점수 : 1.0\n",
      "평가 데이터 점수 : 0.66\n",
      "학습 데이터 점수1 : 1.0\n",
      "평가 데이터 점수1 : 0.655\n",
      "학습 데이터 점수2 : 1.0\n",
      "평가 데이터 점수2 : 0.675\n"
     ]
    },
    {
     "name": "stderr",
     "output_type": "stream",
     "text": [
      "<ipython-input-9-2595995f14ad>:12: DataConversionWarning: A column-vector y was passed when a 1d array was expected. Please change the shape of y to (n_samples, ), for example using ravel().\n",
      "  knn.fit(X_train,y1_train)\n",
      "<ipython-input-9-2595995f14ad>:13: DataConversionWarning: A column-vector y was passed when a 1d array was expected. Please change the shape of y to (n_samples, ), for example using ravel().\n",
      "  knn1.fit(X_train1,y1_train1)\n",
      "<ipython-input-9-2595995f14ad>:14: DataConversionWarning: A column-vector y was passed when a 1d array was expected. Please change the shape of y to (n_samples, ), for example using ravel().\n",
      "  knn2.fit(X_train2,y1_train2)\n",
      "<ipython-input-9-2595995f14ad>:12: DataConversionWarning: A column-vector y was passed when a 1d array was expected. Please change the shape of y to (n_samples, ), for example using ravel().\n",
      "  knn.fit(X_train,y1_train)\n",
      "<ipython-input-9-2595995f14ad>:13: DataConversionWarning: A column-vector y was passed when a 1d array was expected. Please change the shape of y to (n_samples, ), for example using ravel().\n",
      "  knn1.fit(X_train1,y1_train1)\n",
      "<ipython-input-9-2595995f14ad>:14: DataConversionWarning: A column-vector y was passed when a 1d array was expected. Please change the shape of y to (n_samples, ), for example using ravel().\n",
      "  knn2.fit(X_train2,y1_train2)\n"
     ]
    },
    {
     "name": "stdout",
     "output_type": "stream",
     "text": [
      "24\n",
      "학습 데이터 점수 : 1.0\n",
      "평가 데이터 점수 : 0.655\n",
      "학습 데이터 점수1 : 1.0\n",
      "평가 데이터 점수1 : 0.66\n",
      "학습 데이터 점수2 : 1.0\n",
      "평가 데이터 점수2 : 0.675\n",
      "25\n",
      "학습 데이터 점수 : 1.0\n",
      "평가 데이터 점수 : 0.655\n",
      "학습 데이터 점수1 : 1.0\n",
      "평가 데이터 점수1 : 0.65\n",
      "학습 데이터 점수2 : 1.0\n",
      "평가 데이터 점수2 : 0.67\n"
     ]
    },
    {
     "name": "stderr",
     "output_type": "stream",
     "text": [
      "<ipython-input-9-2595995f14ad>:12: DataConversionWarning: A column-vector y was passed when a 1d array was expected. Please change the shape of y to (n_samples, ), for example using ravel().\n",
      "  knn.fit(X_train,y1_train)\n",
      "<ipython-input-9-2595995f14ad>:13: DataConversionWarning: A column-vector y was passed when a 1d array was expected. Please change the shape of y to (n_samples, ), for example using ravel().\n",
      "  knn1.fit(X_train1,y1_train1)\n",
      "<ipython-input-9-2595995f14ad>:14: DataConversionWarning: A column-vector y was passed when a 1d array was expected. Please change the shape of y to (n_samples, ), for example using ravel().\n",
      "  knn2.fit(X_train2,y1_train2)\n",
      "<ipython-input-9-2595995f14ad>:12: DataConversionWarning: A column-vector y was passed when a 1d array was expected. Please change the shape of y to (n_samples, ), for example using ravel().\n",
      "  knn.fit(X_train,y1_train)\n",
      "<ipython-input-9-2595995f14ad>:13: DataConversionWarning: A column-vector y was passed when a 1d array was expected. Please change the shape of y to (n_samples, ), for example using ravel().\n",
      "  knn1.fit(X_train1,y1_train1)\n",
      "<ipython-input-9-2595995f14ad>:14: DataConversionWarning: A column-vector y was passed when a 1d array was expected. Please change the shape of y to (n_samples, ), for example using ravel().\n",
      "  knn2.fit(X_train2,y1_train2)\n",
      "<ipython-input-9-2595995f14ad>:12: DataConversionWarning: A column-vector y was passed when a 1d array was expected. Please change the shape of y to (n_samples, ), for example using ravel().\n",
      "  knn.fit(X_train,y1_train)\n"
     ]
    },
    {
     "name": "stdout",
     "output_type": "stream",
     "text": [
      "26\n",
      "학습 데이터 점수 : 1.0\n",
      "평가 데이터 점수 : 0.675\n",
      "학습 데이터 점수1 : 1.0\n",
      "평가 데이터 점수1 : 0.65\n",
      "학습 데이터 점수2 : 1.0\n",
      "평가 데이터 점수2 : 0.67\n",
      "27\n",
      "학습 데이터 점수 : 1.0\n",
      "평가 데이터 점수 : 0.655\n",
      "학습 데이터 점수1 : 1.0\n",
      "평가 데이터 점수1 : 0.655\n",
      "학습 데이터 점수2 : 1.0\n",
      "평가 데이터 점수2 : 0.665\n",
      "28\n"
     ]
    },
    {
     "name": "stderr",
     "output_type": "stream",
     "text": [
      "<ipython-input-9-2595995f14ad>:13: DataConversionWarning: A column-vector y was passed when a 1d array was expected. Please change the shape of y to (n_samples, ), for example using ravel().\n",
      "  knn1.fit(X_train1,y1_train1)\n",
      "<ipython-input-9-2595995f14ad>:14: DataConversionWarning: A column-vector y was passed when a 1d array was expected. Please change the shape of y to (n_samples, ), for example using ravel().\n",
      "  knn2.fit(X_train2,y1_train2)\n",
      "<ipython-input-9-2595995f14ad>:12: DataConversionWarning: A column-vector y was passed when a 1d array was expected. Please change the shape of y to (n_samples, ), for example using ravel().\n",
      "  knn.fit(X_train,y1_train)\n",
      "<ipython-input-9-2595995f14ad>:13: DataConversionWarning: A column-vector y was passed when a 1d array was expected. Please change the shape of y to (n_samples, ), for example using ravel().\n",
      "  knn1.fit(X_train1,y1_train1)\n",
      "<ipython-input-9-2595995f14ad>:14: DataConversionWarning: A column-vector y was passed when a 1d array was expected. Please change the shape of y to (n_samples, ), for example using ravel().\n",
      "  knn2.fit(X_train2,y1_train2)\n",
      "<ipython-input-9-2595995f14ad>:12: DataConversionWarning: A column-vector y was passed when a 1d array was expected. Please change the shape of y to (n_samples, ), for example using ravel().\n",
      "  knn.fit(X_train,y1_train)\n",
      "<ipython-input-9-2595995f14ad>:13: DataConversionWarning: A column-vector y was passed when a 1d array was expected. Please change the shape of y to (n_samples, ), for example using ravel().\n",
      "  knn1.fit(X_train1,y1_train1)\n",
      "<ipython-input-9-2595995f14ad>:14: DataConversionWarning: A column-vector y was passed when a 1d array was expected. Please change the shape of y to (n_samples, ), for example using ravel().\n",
      "  knn2.fit(X_train2,y1_train2)\n"
     ]
    },
    {
     "name": "stdout",
     "output_type": "stream",
     "text": [
      "학습 데이터 점수 : 1.0\n",
      "평가 데이터 점수 : 0.66\n",
      "학습 데이터 점수1 : 1.0\n",
      "평가 데이터 점수1 : 0.66\n",
      "학습 데이터 점수2 : 1.0\n",
      "평가 데이터 점수2 : 0.665\n",
      "29\n",
      "학습 데이터 점수 : 1.0\n",
      "평가 데이터 점수 : 0.66\n",
      "학습 데이터 점수1 : 1.0\n",
      "평가 데이터 점수1 : 0.66\n",
      "학습 데이터 점수2 : 1.0\n",
      "평가 데이터 점수2 : 0.675\n",
      "30\n",
      "학습 데이터 점수 : 1.0\n"
     ]
    },
    {
     "name": "stderr",
     "output_type": "stream",
     "text": [
      "<ipython-input-9-2595995f14ad>:12: DataConversionWarning: A column-vector y was passed when a 1d array was expected. Please change the shape of y to (n_samples, ), for example using ravel().\n",
      "  knn.fit(X_train,y1_train)\n",
      "<ipython-input-9-2595995f14ad>:13: DataConversionWarning: A column-vector y was passed when a 1d array was expected. Please change the shape of y to (n_samples, ), for example using ravel().\n",
      "  knn1.fit(X_train1,y1_train1)\n",
      "<ipython-input-9-2595995f14ad>:14: DataConversionWarning: A column-vector y was passed when a 1d array was expected. Please change the shape of y to (n_samples, ), for example using ravel().\n",
      "  knn2.fit(X_train2,y1_train2)\n",
      "<ipython-input-9-2595995f14ad>:12: DataConversionWarning: A column-vector y was passed when a 1d array was expected. Please change the shape of y to (n_samples, ), for example using ravel().\n",
      "  knn.fit(X_train,y1_train)\n"
     ]
    },
    {
     "name": "stdout",
     "output_type": "stream",
     "text": [
      "평가 데이터 점수 : 0.65\n",
      "학습 데이터 점수1 : 1.0\n",
      "평가 데이터 점수1 : 0.65\n",
      "학습 데이터 점수2 : 1.0\n",
      "평가 데이터 점수2 : 0.675\n",
      "31\n",
      "학습 데이터 점수 : 1.0\n",
      "평가 데이터 점수 : 0.65\n",
      "학습 데이터 점수1 : 1.0\n",
      "평가 데이터 점수1 : 0.66\n",
      "학습 데이터 점수2 : 1.0\n",
      "평가 데이터 점수2 : 0.67\n",
      "32\n",
      "학습 데이터 점수 : 1.0\n",
      "평가 데이터 점수 : 0.655\n",
      "학습 데이터 점수1 : 1.0\n"
     ]
    },
    {
     "name": "stderr",
     "output_type": "stream",
     "text": [
      "<ipython-input-9-2595995f14ad>:13: DataConversionWarning: A column-vector y was passed when a 1d array was expected. Please change the shape of y to (n_samples, ), for example using ravel().\n",
      "  knn1.fit(X_train1,y1_train1)\n",
      "<ipython-input-9-2595995f14ad>:14: DataConversionWarning: A column-vector y was passed when a 1d array was expected. Please change the shape of y to (n_samples, ), for example using ravel().\n",
      "  knn2.fit(X_train2,y1_train2)\n",
      "<ipython-input-9-2595995f14ad>:12: DataConversionWarning: A column-vector y was passed when a 1d array was expected. Please change the shape of y to (n_samples, ), for example using ravel().\n",
      "  knn.fit(X_train,y1_train)\n",
      "<ipython-input-9-2595995f14ad>:13: DataConversionWarning: A column-vector y was passed when a 1d array was expected. Please change the shape of y to (n_samples, ), for example using ravel().\n",
      "  knn1.fit(X_train1,y1_train1)\n",
      "<ipython-input-9-2595995f14ad>:14: DataConversionWarning: A column-vector y was passed when a 1d array was expected. Please change the shape of y to (n_samples, ), for example using ravel().\n",
      "  knn2.fit(X_train2,y1_train2)\n",
      "<ipython-input-9-2595995f14ad>:12: DataConversionWarning: A column-vector y was passed when a 1d array was expected. Please change the shape of y to (n_samples, ), for example using ravel().\n",
      "  knn.fit(X_train,y1_train)\n"
     ]
    },
    {
     "name": "stdout",
     "output_type": "stream",
     "text": [
      "평가 데이터 점수1 : 0.655\n",
      "학습 데이터 점수2 : 1.0\n",
      "평가 데이터 점수2 : 0.67\n",
      "33\n",
      "학습 데이터 점수 : 1.0\n",
      "평가 데이터 점수 : 0.66\n",
      "학습 데이터 점수1 : 1.0\n",
      "평가 데이터 점수1 : 0.665\n",
      "학습 데이터 점수2 : 1.0\n",
      "평가 데이터 점수2 : 0.675\n",
      "34\n",
      "학습 데이터 점수 : 1.0\n",
      "평가 데이터 점수 : 0.655\n"
     ]
    },
    {
     "name": "stderr",
     "output_type": "stream",
     "text": [
      "<ipython-input-9-2595995f14ad>:13: DataConversionWarning: A column-vector y was passed when a 1d array was expected. Please change the shape of y to (n_samples, ), for example using ravel().\n",
      "  knn1.fit(X_train1,y1_train1)\n",
      "<ipython-input-9-2595995f14ad>:14: DataConversionWarning: A column-vector y was passed when a 1d array was expected. Please change the shape of y to (n_samples, ), for example using ravel().\n",
      "  knn2.fit(X_train2,y1_train2)\n",
      "<ipython-input-9-2595995f14ad>:12: DataConversionWarning: A column-vector y was passed when a 1d array was expected. Please change the shape of y to (n_samples, ), for example using ravel().\n",
      "  knn.fit(X_train,y1_train)\n",
      "<ipython-input-9-2595995f14ad>:13: DataConversionWarning: A column-vector y was passed when a 1d array was expected. Please change the shape of y to (n_samples, ), for example using ravel().\n",
      "  knn1.fit(X_train1,y1_train1)\n",
      "<ipython-input-9-2595995f14ad>:14: DataConversionWarning: A column-vector y was passed when a 1d array was expected. Please change the shape of y to (n_samples, ), for example using ravel().\n",
      "  knn2.fit(X_train2,y1_train2)\n",
      "<ipython-input-9-2595995f14ad>:12: DataConversionWarning: A column-vector y was passed when a 1d array was expected. Please change the shape of y to (n_samples, ), for example using ravel().\n",
      "  knn.fit(X_train,y1_train)\n"
     ]
    },
    {
     "name": "stdout",
     "output_type": "stream",
     "text": [
      "학습 데이터 점수1 : 1.0\n",
      "평가 데이터 점수1 : 0.675\n",
      "학습 데이터 점수2 : 1.0\n",
      "평가 데이터 점수2 : 0.67\n",
      "35\n",
      "학습 데이터 점수 : 1.0\n",
      "평가 데이터 점수 : 0.65\n",
      "학습 데이터 점수1 : 1.0\n",
      "평가 데이터 점수1 : 0.68\n",
      "학습 데이터 점수2 : 1.0\n",
      "평가 데이터 점수2 : 0.675\n",
      "36\n",
      "학습 데이터 점수 : 1.0\n"
     ]
    },
    {
     "name": "stderr",
     "output_type": "stream",
     "text": [
      "<ipython-input-9-2595995f14ad>:13: DataConversionWarning: A column-vector y was passed when a 1d array was expected. Please change the shape of y to (n_samples, ), for example using ravel().\n",
      "  knn1.fit(X_train1,y1_train1)\n",
      "<ipython-input-9-2595995f14ad>:14: DataConversionWarning: A column-vector y was passed when a 1d array was expected. Please change the shape of y to (n_samples, ), for example using ravel().\n",
      "  knn2.fit(X_train2,y1_train2)\n",
      "<ipython-input-9-2595995f14ad>:12: DataConversionWarning: A column-vector y was passed when a 1d array was expected. Please change the shape of y to (n_samples, ), for example using ravel().\n",
      "  knn.fit(X_train,y1_train)\n",
      "<ipython-input-9-2595995f14ad>:13: DataConversionWarning: A column-vector y was passed when a 1d array was expected. Please change the shape of y to (n_samples, ), for example using ravel().\n",
      "  knn1.fit(X_train1,y1_train1)\n",
      "<ipython-input-9-2595995f14ad>:14: DataConversionWarning: A column-vector y was passed when a 1d array was expected. Please change the shape of y to (n_samples, ), for example using ravel().\n",
      "  knn2.fit(X_train2,y1_train2)\n",
      "<ipython-input-9-2595995f14ad>:12: DataConversionWarning: A column-vector y was passed when a 1d array was expected. Please change the shape of y to (n_samples, ), for example using ravel().\n",
      "  knn.fit(X_train,y1_train)\n"
     ]
    },
    {
     "name": "stdout",
     "output_type": "stream",
     "text": [
      "평가 데이터 점수 : 0.655\n",
      "학습 데이터 점수1 : 1.0\n",
      "평가 데이터 점수1 : 0.67\n",
      "학습 데이터 점수2 : 1.0\n",
      "평가 데이터 점수2 : 0.67\n",
      "37\n",
      "학습 데이터 점수 : 1.0\n",
      "평가 데이터 점수 : 0.655\n",
      "학습 데이터 점수1 : 1.0\n",
      "평가 데이터 점수1 : 0.68\n",
      "학습 데이터 점수2 : 1.0\n",
      "평가 데이터 점수2 : 0.675\n"
     ]
    },
    {
     "name": "stderr",
     "output_type": "stream",
     "text": [
      "<ipython-input-9-2595995f14ad>:13: DataConversionWarning: A column-vector y was passed when a 1d array was expected. Please change the shape of y to (n_samples, ), for example using ravel().\n",
      "  knn1.fit(X_train1,y1_train1)\n",
      "<ipython-input-9-2595995f14ad>:14: DataConversionWarning: A column-vector y was passed when a 1d array was expected. Please change the shape of y to (n_samples, ), for example using ravel().\n",
      "  knn2.fit(X_train2,y1_train2)\n",
      "<ipython-input-9-2595995f14ad>:12: DataConversionWarning: A column-vector y was passed when a 1d array was expected. Please change the shape of y to (n_samples, ), for example using ravel().\n",
      "  knn.fit(X_train,y1_train)\n",
      "<ipython-input-9-2595995f14ad>:13: DataConversionWarning: A column-vector y was passed when a 1d array was expected. Please change the shape of y to (n_samples, ), for example using ravel().\n",
      "  knn1.fit(X_train1,y1_train1)\n",
      "<ipython-input-9-2595995f14ad>:14: DataConversionWarning: A column-vector y was passed when a 1d array was expected. Please change the shape of y to (n_samples, ), for example using ravel().\n",
      "  knn2.fit(X_train2,y1_train2)\n"
     ]
    },
    {
     "name": "stdout",
     "output_type": "stream",
     "text": [
      "38\n",
      "학습 데이터 점수 : 1.0\n",
      "평가 데이터 점수 : 0.655\n",
      "학습 데이터 점수1 : 1.0\n",
      "평가 데이터 점수1 : 0.675\n",
      "학습 데이터 점수2 : 1.0\n",
      "평가 데이터 점수2 : 0.675\n",
      "39\n",
      "학습 데이터 점수 : 1.0\n",
      "평가 데이터 점수 : 0.65\n",
      "학습 데이터 점수1 : 1.0\n",
      "평가 데이터 점수1 : 0.68\n",
      "학습 데이터 점수2 : 1.0\n",
      "평가 데이터 점수2 : 0.68\n"
     ]
    },
    {
     "name": "stderr",
     "output_type": "stream",
     "text": [
      "<ipython-input-9-2595995f14ad>:12: DataConversionWarning: A column-vector y was passed when a 1d array was expected. Please change the shape of y to (n_samples, ), for example using ravel().\n",
      "  knn.fit(X_train,y1_train)\n",
      "<ipython-input-9-2595995f14ad>:13: DataConversionWarning: A column-vector y was passed when a 1d array was expected. Please change the shape of y to (n_samples, ), for example using ravel().\n",
      "  knn1.fit(X_train1,y1_train1)\n",
      "<ipython-input-9-2595995f14ad>:14: DataConversionWarning: A column-vector y was passed when a 1d array was expected. Please change the shape of y to (n_samples, ), for example using ravel().\n",
      "  knn2.fit(X_train2,y1_train2)\n",
      "<ipython-input-9-2595995f14ad>:12: DataConversionWarning: A column-vector y was passed when a 1d array was expected. Please change the shape of y to (n_samples, ), for example using ravel().\n",
      "  knn.fit(X_train,y1_train)\n",
      "<ipython-input-9-2595995f14ad>:13: DataConversionWarning: A column-vector y was passed when a 1d array was expected. Please change the shape of y to (n_samples, ), for example using ravel().\n",
      "  knn1.fit(X_train1,y1_train1)\n",
      "<ipython-input-9-2595995f14ad>:14: DataConversionWarning: A column-vector y was passed when a 1d array was expected. Please change the shape of y to (n_samples, ), for example using ravel().\n",
      "  knn2.fit(X_train2,y1_train2)\n"
     ]
    },
    {
     "name": "stdout",
     "output_type": "stream",
     "text": [
      "40\n",
      "학습 데이터 점수 : 1.0\n",
      "평가 데이터 점수 : 0.65\n",
      "학습 데이터 점수1 : 1.0\n",
      "평가 데이터 점수1 : 0.685\n",
      "학습 데이터 점수2 : 1.0\n",
      "평가 데이터 점수2 : 0.68\n",
      "41\n",
      "학습 데이터 점수 : 1.0\n",
      "평가 데이터 점수 : 0.665\n",
      "학습 데이터 점수1 : 1.0\n",
      "평가 데이터 점수1 : 0.685\n",
      "학습 데이터 점수2 : 1.0\n",
      "평가 데이터 점수2 : 0.68\n"
     ]
    },
    {
     "name": "stderr",
     "output_type": "stream",
     "text": [
      "<ipython-input-9-2595995f14ad>:12: DataConversionWarning: A column-vector y was passed when a 1d array was expected. Please change the shape of y to (n_samples, ), for example using ravel().\n",
      "  knn.fit(X_train,y1_train)\n",
      "<ipython-input-9-2595995f14ad>:13: DataConversionWarning: A column-vector y was passed when a 1d array was expected. Please change the shape of y to (n_samples, ), for example using ravel().\n",
      "  knn1.fit(X_train1,y1_train1)\n",
      "<ipython-input-9-2595995f14ad>:14: DataConversionWarning: A column-vector y was passed when a 1d array was expected. Please change the shape of y to (n_samples, ), for example using ravel().\n",
      "  knn2.fit(X_train2,y1_train2)\n",
      "<ipython-input-9-2595995f14ad>:12: DataConversionWarning: A column-vector y was passed when a 1d array was expected. Please change the shape of y to (n_samples, ), for example using ravel().\n",
      "  knn.fit(X_train,y1_train)\n",
      "<ipython-input-9-2595995f14ad>:13: DataConversionWarning: A column-vector y was passed when a 1d array was expected. Please change the shape of y to (n_samples, ), for example using ravel().\n",
      "  knn1.fit(X_train1,y1_train1)\n",
      "<ipython-input-9-2595995f14ad>:14: DataConversionWarning: A column-vector y was passed when a 1d array was expected. Please change the shape of y to (n_samples, ), for example using ravel().\n",
      "  knn2.fit(X_train2,y1_train2)\n"
     ]
    },
    {
     "name": "stdout",
     "output_type": "stream",
     "text": [
      "42\n",
      "학습 데이터 점수 : 1.0\n",
      "평가 데이터 점수 : 0.655\n",
      "학습 데이터 점수1 : 1.0\n",
      "평가 데이터 점수1 : 0.685\n",
      "학습 데이터 점수2 : 1.0\n",
      "평가 데이터 점수2 : 0.68\n",
      "43\n",
      "학습 데이터 점수 : 1.0\n",
      "평가 데이터 점수 : 0.67\n",
      "학습 데이터 점수1 : 1.0\n",
      "평가 데이터 점수1 : 0.685\n",
      "학습 데이터 점수2 : 1.0\n",
      "평가 데이터 점수2 : 0.68\n"
     ]
    },
    {
     "name": "stderr",
     "output_type": "stream",
     "text": [
      "<ipython-input-9-2595995f14ad>:12: DataConversionWarning: A column-vector y was passed when a 1d array was expected. Please change the shape of y to (n_samples, ), for example using ravel().\n",
      "  knn.fit(X_train,y1_train)\n",
      "<ipython-input-9-2595995f14ad>:13: DataConversionWarning: A column-vector y was passed when a 1d array was expected. Please change the shape of y to (n_samples, ), for example using ravel().\n",
      "  knn1.fit(X_train1,y1_train1)\n",
      "<ipython-input-9-2595995f14ad>:14: DataConversionWarning: A column-vector y was passed when a 1d array was expected. Please change the shape of y to (n_samples, ), for example using ravel().\n",
      "  knn2.fit(X_train2,y1_train2)\n",
      "<ipython-input-9-2595995f14ad>:12: DataConversionWarning: A column-vector y was passed when a 1d array was expected. Please change the shape of y to (n_samples, ), for example using ravel().\n",
      "  knn.fit(X_train,y1_train)\n",
      "<ipython-input-9-2595995f14ad>:13: DataConversionWarning: A column-vector y was passed when a 1d array was expected. Please change the shape of y to (n_samples, ), for example using ravel().\n",
      "  knn1.fit(X_train1,y1_train1)\n",
      "<ipython-input-9-2595995f14ad>:14: DataConversionWarning: A column-vector y was passed when a 1d array was expected. Please change the shape of y to (n_samples, ), for example using ravel().\n",
      "  knn2.fit(X_train2,y1_train2)\n"
     ]
    },
    {
     "name": "stdout",
     "output_type": "stream",
     "text": [
      "44\n",
      "학습 데이터 점수 : 1.0\n",
      "평가 데이터 점수 : 0.655\n",
      "학습 데이터 점수1 : 1.0\n",
      "평가 데이터 점수1 : 0.68\n",
      "학습 데이터 점수2 : 1.0\n",
      "평가 데이터 점수2 : 0.675\n",
      "45\n",
      "학습 데이터 점수 : 1.0\n",
      "평가 데이터 점수 : 0.665\n",
      "학습 데이터 점수1 : 1.0\n",
      "평가 데이터 점수1 : 0.685\n",
      "학습 데이터 점수2 : 1.0\n",
      "평가 데이터 점수2 : 0.67\n"
     ]
    },
    {
     "name": "stderr",
     "output_type": "stream",
     "text": [
      "<ipython-input-9-2595995f14ad>:12: DataConversionWarning: A column-vector y was passed when a 1d array was expected. Please change the shape of y to (n_samples, ), for example using ravel().\n",
      "  knn.fit(X_train,y1_train)\n",
      "<ipython-input-9-2595995f14ad>:13: DataConversionWarning: A column-vector y was passed when a 1d array was expected. Please change the shape of y to (n_samples, ), for example using ravel().\n",
      "  knn1.fit(X_train1,y1_train1)\n",
      "<ipython-input-9-2595995f14ad>:14: DataConversionWarning: A column-vector y was passed when a 1d array was expected. Please change the shape of y to (n_samples, ), for example using ravel().\n",
      "  knn2.fit(X_train2,y1_train2)\n",
      "<ipython-input-9-2595995f14ad>:12: DataConversionWarning: A column-vector y was passed when a 1d array was expected. Please change the shape of y to (n_samples, ), for example using ravel().\n",
      "  knn.fit(X_train,y1_train)\n",
      "<ipython-input-9-2595995f14ad>:13: DataConversionWarning: A column-vector y was passed when a 1d array was expected. Please change the shape of y to (n_samples, ), for example using ravel().\n",
      "  knn1.fit(X_train1,y1_train1)\n",
      "<ipython-input-9-2595995f14ad>:14: DataConversionWarning: A column-vector y was passed when a 1d array was expected. Please change the shape of y to (n_samples, ), for example using ravel().\n",
      "  knn2.fit(X_train2,y1_train2)\n"
     ]
    },
    {
     "name": "stdout",
     "output_type": "stream",
     "text": [
      "46\n",
      "학습 데이터 점수 : 1.0\n",
      "평가 데이터 점수 : 0.66\n",
      "학습 데이터 점수1 : 1.0\n",
      "평가 데이터 점수1 : 0.685\n",
      "학습 데이터 점수2 : 1.0\n",
      "평가 데이터 점수2 : 0.675\n",
      "47\n",
      "학습 데이터 점수 : 1.0\n",
      "평가 데이터 점수 : 0.66\n",
      "학습 데이터 점수1 : 1.0\n",
      "평가 데이터 점수1 : 0.685\n",
      "학습 데이터 점수2 : 1.0\n",
      "평가 데이터 점수2 : 0.67\n",
      "48\n",
      "학습 데이터 점수 : 1.0\n",
      "평가 데이터 점수 : 0.66\n",
      "학습 데이터 점수1 : 1.0\n",
      "평가 데이터 점수1 : 0.695\n",
      "학습 데이터 점수2 : 1.0\n",
      "평가 데이터 점수2 : 0.675\n",
      "49\n",
      "학습 데이터 점수 : 1.0\n",
      "평가 데이터 점수 : 0.66\n",
      "학습 데이터 점수1 : 1.0\n"
     ]
    },
    {
     "name": "stderr",
     "output_type": "stream",
     "text": [
      "<ipython-input-9-2595995f14ad>:12: DataConversionWarning: A column-vector y was passed when a 1d array was expected. Please change the shape of y to (n_samples, ), for example using ravel().\n",
      "  knn.fit(X_train,y1_train)\n",
      "<ipython-input-9-2595995f14ad>:13: DataConversionWarning: A column-vector y was passed when a 1d array was expected. Please change the shape of y to (n_samples, ), for example using ravel().\n",
      "  knn1.fit(X_train1,y1_train1)\n",
      "<ipython-input-9-2595995f14ad>:14: DataConversionWarning: A column-vector y was passed when a 1d array was expected. Please change the shape of y to (n_samples, ), for example using ravel().\n",
      "  knn2.fit(X_train2,y1_train2)\n",
      "<ipython-input-9-2595995f14ad>:12: DataConversionWarning: A column-vector y was passed when a 1d array was expected. Please change the shape of y to (n_samples, ), for example using ravel().\n",
      "  knn.fit(X_train,y1_train)\n",
      "<ipython-input-9-2595995f14ad>:13: DataConversionWarning: A column-vector y was passed when a 1d array was expected. Please change the shape of y to (n_samples, ), for example using ravel().\n",
      "  knn1.fit(X_train1,y1_train1)\n",
      "<ipython-input-9-2595995f14ad>:14: DataConversionWarning: A column-vector y was passed when a 1d array was expected. Please change the shape of y to (n_samples, ), for example using ravel().\n",
      "  knn2.fit(X_train2,y1_train2)\n"
     ]
    },
    {
     "name": "stdout",
     "output_type": "stream",
     "text": [
      "평가 데이터 점수1 : 0.69\n",
      "학습 데이터 점수2 : 1.0\n",
      "평가 데이터 점수2 : 0.675\n"
     ]
    }
   ],
   "source": [
    "#K-최근접 이웃 알고리즘(분류)\n",
    "X_train,X_test,y1_train,y1_test= train_test_split(X,y1,random_state=5,test_size=0.2)\n",
    "X_train1,X_test1,y1_train1,y1_test1=train_test_split(X1,y1,random_state=5,test_size=0.2)\n",
    "X_train2,X_test2,y1_train2,y1_test2=train_test_split(X2,y1,random_state=5,test_size=0.2)\n",
    "t=pd.DataFrame(columns=['i','score'])\n",
    "t1=pd.DataFrame(columns=['i','score'])\n",
    "t2=pd.DataFrame(columns=['i','score'])\n",
    "for i in range(1,50):\n",
    "    knn=KNeighborsClassifier(n_neighbors=i, weights='distance')\n",
    "    knn1=KNeighborsClassifier(n_neighbors=i, weights='distance')\n",
    "    knn2=KNeighborsClassifier(n_neighbors=i, weights='distance')\n",
    "    knn.fit(X_train,y1_train)\n",
    "    knn1.fit(X_train1,y1_train1)\n",
    "    knn2.fit(X_train2,y1_train2)\n",
    "    print(i)\n",
    "    print(\"학습 데이터 점수 : {}\".format(knn.score(X_train,y1_train)))\n",
    "    print(\"평가 데이터 점수 : {}\".format(knn.score(X_test,y1_test)))\n",
    "    print(\"학습 데이터 점수1 : {}\".format(knn1.score(X_train1,y1_train1)))\n",
    "    print(\"평가 데이터 점수1 : {}\".format(knn1.score(X_test1,y1_test1)))\n",
    "    print(\"학습 데이터 점수2 : {}\".format(knn2.score(X_train2,y1_train2)))\n",
    "    print(\"평가 데이터 점수2 : {}\".format(knn2.score(X_test2,y1_test2)))\n",
    "    t.loc[i-1]=[i,knn.score(X_test,y1_test)]\n",
    "    t1.loc[i-1]=[i,knn1.score(X_test1,y1_test1)]\n",
    "    t2.loc[i-1]=[i,knn2.score(X_test2,y1_test2)]"
   ]
  },
  {
   "cell_type": "code",
   "execution_count": 10,
   "metadata": {},
   "outputs": [
    {
     "data": {
      "text/plain": [
       "<matplotlib.legend.Legend at 0x2610e883850>"
      ]
     },
     "execution_count": 10,
     "metadata": {},
     "output_type": "execute_result"
    },
    {
     "data": {
      "image/png": "[encoded data removed]",
      "text/plain": [
       "<Figure size 1080x576 with 1 Axes>"
      ]
     },
     "metadata": {
      "needs_background": "light"
     },
     "output_type": "display_data"
    }
   ],
   "source": [
    "plt.figure(figsize=(15,8))\n",
    "plt.grid()\n",
    "plt.plot(t[['i']],t[['score']],label=\"all\")\n",
    "plt.plot(t1[['i']],t1[['score']],label=\"coef\")\n",
    "plt.plot(t2[['i']],t2[['score']],label=\"stepwise\")\n",
    "plt.xlabel('neighbor')\n",
    "plt.ylabel('accuracy')\n",
    "plt.legend()"
   ]
  },
  {
   "cell_type": "code",
   "execution_count": 11,
   "metadata": {},
   "outputs": [
    {
     "name": "stdout",
     "output_type": "stream",
     "text": [
      "학습 데이터 점수 : 1.0\n",
      "평가 데이터 점수 : 0.68\n",
      "학습 데이터 점수 : 1.0\n",
      "평가 데이터 점수 : 0.705\n",
      "학습 데이터 점수 : 1.0\n",
      "평가 데이터 점수 : 0.68\n"
     ]
    },
    {
     "name": "stderr",
     "output_type": "stream",
     "text": [
      "<ipython-input-11-cced317dd58e>:9: DataConversionWarning: A column-vector y was passed when a 1d array was expected. Please change the shape of y to (n_samples, ), for example using ravel().\n",
      "  knn.fit(X_train,y1_train)\n",
      "<ipython-input-11-cced317dd58e>:10: DataConversionWarning: A column-vector y was passed when a 1d array was expected. Please change the shape of y to (n_samples, ), for example using ravel().\n",
      "  knn1.fit(X_train1,y1_train1)\n",
      "<ipython-input-11-cced317dd58e>:11: DataConversionWarning: A column-vector y was passed when a 1d array was expected. Please change the shape of y to (n_samples, ), for example using ravel().\n",
      "  knn2.fit(X_train2,y1_train2)\n"
     ]
    }
   ],
   "source": [
    "X_train,X_test,y1_train,y1_test= train_test_split(X,y1,random_state=5,test_size=0.2)\n",
    "X_train1,X_test1,y1_train1,y1_test1=train_test_split(X1,y1,random_state=5,test_size=0.2)\n",
    "X_train2,X_test2,y1_train2,y1_test2=train_test_split(X2,y1,random_state=5,test_size=0.2)\n",
    "\n",
    "knn=KNeighborsClassifier(n_neighbors=7, weights='distance')\n",
    "knn1=KNeighborsClassifier(n_neighbors=10, weights='distance')\n",
    "knn2=KNeighborsClassifier(n_neighbors=39, weights='distance')\n",
    "\n",
    "knn.fit(X_train,y1_train)\n",
    "knn1.fit(X_train1,y1_train1)\n",
    "knn2.fit(X_train2,y1_train2)\n",
    "\n",
    "y_pred=knn.predict(X_test)\n",
    "y_pred1=knn1.predict(X_test1)\n",
    "y_pred2=knn2.predict(X_test2)\n",
    "\n",
    "print(\"학습 데이터 점수 : {}\".format(knn.score(X_train,y1_train)))\n",
    "print(\"평가 데이터 점수 : {}\".format(knn.score(X_test,y1_test)))\n",
    "print(\"학습 데이터 점수 : {}\".format(knn1.score(X_train1,y1_train1)))\n",
    "print(\"평가 데이터 점수 : {}\".format(knn1.score(X_test1,y1_test1)))\n",
    "print(\"학습 데이터 점수 : {}\".format(knn2.score(X_train2,y1_train2)))\n",
    "print(\"평가 데이터 점수 : {}\".format(knn2.score(X_test2,y1_test2)))\n"
   ]
  },
  {
   "cell_type": "code",
   "execution_count": 12,
   "metadata": {},
   "outputs": [
    {
     "data": {
      "image/png": "[encoded data removed]",
      "text/plain": [
       "<Figure size 504x504 with 2 Axes>"
      ]
     },
     "metadata": {
      "needs_background": "light"
     },
     "output_type": "display_data"
    }
   ],
   "source": [
    "plt.figure(figsize=(7,7))\n",
    "cm=confusion_matrix(y1_test1,y_pred1)\n",
    "sns.heatmap(cm,annot=True, fmt='d', cmap='Blues')\n",
    "plt.xlabel('y_pred')\n",
    "plt.ylabel('y_test')\n",
    "plt.show()"
   ]
  },
  {
   "cell_type": "code",
   "execution_count": 13,
   "metadata": {},
   "outputs": [
    {
     "name": "stdout",
     "output_type": "stream",
     "text": [
      "              precision    recall  f1-score   support\n",
      "\n",
      "           0       0.74      0.85      0.79       105\n",
      "           1       0.62      0.54      0.58        70\n",
      "           2       0.69      0.53      0.60        17\n",
      "           3       1.00      0.62      0.77         8\n",
      "\n",
      "    accuracy                           0.70       200\n",
      "   macro avg       0.76      0.64      0.68       200\n",
      "weighted avg       0.70      0.70      0.70       200\n",
      "\n"
     ]
    }
   ],
   "source": [
    "print(classification_report(y1_test1,y_pred1,target_names=['0','1','2','3']))"
   ]
  },
  {
   "cell_type": "code",
   "execution_count": 14,
   "metadata": {},
   "outputs": [
    {
     "name": "stdout",
     "output_type": "stream",
     "text": [
      "col_0   1   2  3  4\n",
      "row_0              \n",
      "1      92  11  2  0\n",
      "2      31  35  4  0\n",
      "3       4   8  5  0\n",
      "4       0   2  2  4 \n",
      "col_0   1   2  3  4\n",
      "row_0              \n",
      "1      89  16  0  0\n",
      "2      29  38  3  0\n",
      "3       3   5  9  0\n",
      "4       0   2  1  5 \n",
      "col_0   1   2  3  4\n",
      "row_0              \n",
      "1      89  16  0  0\n",
      "2      29  37  4  0\n",
      "3       5   5  7  0\n",
      "4       0   3  2  3\n"
     ]
    }
   ],
   "source": [
    "#크로스탭\n",
    "y1_test=y1_test.values.ravel()\n",
    "y1_test1=y1_test1.values.ravel()\n",
    "y1_test2=y1_test2.values.ravel()\n",
    "ct=pd.crosstab(index=y1_test,columns=y_pred)\n",
    "ct1=pd.crosstab(index=y1_test1,columns=y_pred1)\n",
    "ct2=pd.crosstab(index=y1_test2,columns=y_pred2)\n",
    "print(ct, \"\\n{}\".format(ct1),\"\\n{}\".format(ct2))"
   ]
  }
 ],
 "metadata": {
  "kernelspec": {
   "display_name": "Python 3",
   "language": "python",
   "name": "python3"
  },
  "language_info": {
   "codemirror_mode": {
    "name": "ipython",
    "version": 3
   },
   "file_extension": ".py",
   "mimetype": "text/x-python",
   "name": "python",
   "nbconvert_exporter": "python",
   "pygments_lexer": "ipython3",
   "version": "3.8.5"
  }
 },
 "nbformat": 4,
 "nbformat_minor": 4
}
